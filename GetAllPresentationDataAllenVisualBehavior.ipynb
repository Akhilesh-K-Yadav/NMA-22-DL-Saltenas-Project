{
  "cells": [
    {
      "cell_type": "code",
      "execution_count": 2,
      "metadata": {
        "id": "2nOISReVf9gc"
      },
      "outputs": [],
      "source": [
        "# Import packages\n",
        "import os\n",
        "import requests\n",
        "import numpy as np\n",
        "import pandas as pd\n",
        "from tqdm import tqdm\n",
        "import seaborn as sns\n",
        "import matplotlib.pyplot as plt\n",
        "\n",
        "from sklearn import svm\n",
        "from sklearn.model_selection import train_test_split\n",
        "from sklearn.metrics import confusion_matrix, accuracy_score\n",
        "from sklearn.manifold import TSNE\n",
        "\n",
        "import mindscope_utilities\n",
        "import mindscope_utilities.visual_behavior_ophys as ophys\n",
        "\n",
        "from allensdk.brain_observatory.behavior.behavior_project_cache import VisualBehaviorOphysProjectCache\n",
        "\n",
        "pd.set_option('display.max_columns', 500)\n",
        "\n",
        "# Mount Google Drive\n",
        "try:\n",
        "  import google.colab\n",
        "  google.colab.drive.mount('/content/drive')\n",
        "  cache_directory = \"/temp/\"  # Note: this path must exist on your local drive\n",
        "  save_data_directory = '/content/drive/MyDrive/'\n",
        "  IN_COLAB = True\n",
        "except:\n",
        "  cache_directory = \"./cache/\"  # Note: this path must exist on your local drive\n",
        "  save_data_directory = './'\n",
        "  IN_COLAB = False"
      ]
    },
    {
      "cell_type": "code",
      "execution_count": null,
      "metadata": {
        "id": "b9n1opBIJ2Y3"
      },
      "outputs": [],
      "source": [
        "# Get preprocessed dataset\n",
        "# fname = \"allen_visual_behavior_2p_change_detection_familiar_novel_image_sets.parquet\"\n",
        "# url = \"https://ndownloader.figshare.com/files/28470255\"\n",
        "# if not os.path.isfile(fname):\n",
        "#   try:\n",
        "#     r = requests.get(url)\n",
        "#   except requests.ConnectionError:\n",
        "#     print(\"!!! Failed to download data !!!\")\n",
        "#   else:\n",
        "#     if r.status_code != requests.codes.ok:\n",
        "#       print(\"!!! Failed to download data !!!\")\n",
        "#     else:\n",
        "#       with open(fname, \"wb\") as fid:\n",
        "#         fid.write(r.content)\n",
        "\n",
        "# filename = \"allen_visual_behavior_2p_change_detection_familiar_novel_image_sets.parquet\"\n",
        "# preprocessed_data = pd.read_parquet(filename)\n",
        "# preprocessed_data.head(5)\n",
        "\n",
        "# print(preprocessed_data.session_type.unique())\n",
        "# print(np.sort(preprocessed_data.query('cre_line == \"Vip-IRES-Cre\" and session_type == \"OPHYS_3_images_B\"')['mouse_id'].unique()))\n",
        "# print(np.sort(preprocessed_data.query('cre_line == \"Vip-IRES-Cre\" and session_type == \"OPHYS_4_images_A\"')['mouse_id'].unique()))"
      ]
    },
    {
      "cell_type": "code",
      "execution_count": 4,
      "metadata": {
        "id": "oykbLfyXgCl3"
      },
      "outputs": [
        {
          "name": "stderr",
          "output_type": "stream",
          "text": [
            "ophys_session_table.csv: 100%|██████████| 227k/227k [00:00<00:00, 1.23MMB/s] \n",
            "behavior_session_table.csv: 100%|██████████| 1.21M/1.21M [00:00<00:00, 5.23MMB/s]\n",
            "ophys_experiment_table.csv: 100%|██████████| 610k/610k [00:00<00:00, 3.12MMB/s] \n",
            "ophys_cells_table.csv: 100%|██████████| 4.29M/4.29M [00:00<00:00, 12.6MMB/s]\n"
          ]
        }
      ],
      "source": [
        "# Get high-level csv files from S3 storage\n",
        "cache = VisualBehaviorOphysProjectCache.from_s3_cache(cache_dir=cache_directory)"
      ]
    },
    {
      "cell_type": "code",
      "execution_count": 5,
      "metadata": {
        "colab": {
          "base_uri": "https://localhost:8080/"
        },
        "id": "qrB2d6eOGItN",
        "outputId": "52519b98-fb6a-41e3-dfde-0154e05f23db"
      },
      "outputs": [
        {
          "name": "stdout",
          "output_type": "stream",
          "text": [
            "['OPHYS_1_images_A' 'OPHYS_2_images_A_passive' 'OPHYS_3_images_A'\n",
            " 'OPHYS_4_images_B' 'OPHYS_5_images_B_passive' 'OPHYS_6_images_B'\n",
            " 'OPHYS_1_images_B' 'OPHYS_2_images_B_passive' 'OPHYS_3_images_B'\n",
            " 'OPHYS_4_images_A' 'OPHYS_6_images_A' 'OPHYS_5_images_A_passive'\n",
            " 'OPHYS_1_images_G' 'OPHYS_3_images_G' 'OPHYS_2_images_G_passive'\n",
            " 'OPHYS_4_images_H' 'OPHYS_5_images_H_passive' 'OPHYS_6_images_H']\n",
            "['Sst-IRES-Cre' 'Vip-IRES-Cre' 'Slc17a7-IRES2-Cre']\n"
          ]
        }
      ],
      "source": [
        "# Load session table (and experiment table if desired) as data frames\n",
        "session_table = cache.get_ophys_session_table()\n",
        "#ophys_session_ids = session_table.index\n",
        "#experiment_table = cache.get_ophys_experiment_table()\n",
        "print(session_table.session_type.unique())\n",
        "print(session_table.cre_line.unique())"
      ]
    },
    {
      "cell_type": "code",
      "execution_count": 11,
      "metadata": {
        "id": "hvFAkFpEf-tX"
      },
      "outputs": [
        {
          "name": "stdout",
          "output_type": "stream",
          "text": [
            "Int64Index([470784, 476970, 477202, 480753, 485688, 489056, 498972], dtype='int64', name='mouse_id')\n"
          ]
        }
      ],
      "source": [
        "# Select a subset of mouse cre lines and sessions\n",
        "target_cre_lines = [\"Sst-IRES-Cre\"]\n",
        "target_session_types = [\"OPHYS_1_images_B\", \"OPHYS_3_images_B\", \"OPHYS_4_images_A\", \"OPHYS_6_images_A\"];\n",
        "session_table_subset = session_table.query('cre_line in @target_cre_lines and session_type in @target_session_types')\n",
        "\n",
        "# Determine which mice in this subset have data from ALL sessions\n",
        "#session_table_subset.groupby(['mouse_id','session_type'])['age_in_days'].mean()\n",
        "mouse_sessions = pd.DataFrame(session_table_subset.groupby(['mouse_id',])['session_type'].unique())\n",
        "mouse_sessions['has_all_sessions'] = mouse_sessions.apply(lambda x: len(x['session_type'])==4, axis=1)\n",
        "target_mouse_ids = mouse_sessions.query('has_all_sessions').index\n",
        "print(target_mouse_ids)"
      ]
    },
    {
      "cell_type": "code",
      "execution_count": 30,
      "metadata": {},
      "outputs": [
        {
          "data": {
            "text/plain": [
              "1e-07"
            ]
          },
          "execution_count": 30,
          "metadata": {},
          "output_type": "execute_result"
        }
      ],
      "source": [
        "np.float16(0.0000001)"
      ]
    },
    {
      "cell_type": "code",
      "execution_count": 31,
      "metadata": {
        "colab": {
          "base_uri": "https://localhost:8080/"
        },
        "id": "XYKTubkPhMRM",
        "outputId": "a3514e1f-6134-414e-be2f-103c4676aaf4"
      },
      "outputs": [
        {
          "name": "stdout",
          "output_type": "stream",
          "text": [
            "--------------\n",
            "Mouse ID 470784 includes 6 sessions\n",
            "Session ID 954981981 includes 1 experiments: [955276580]\n",
            "Experiment 955276580 includes 17 cells.\n"
          ]
        },
        {
          "name": "stderr",
          "output_type": "stream",
          "text": [
            "100%|██████████| 17/17 [00:10<00:00,  1.64it/s]\n"
          ]
        },
        {
          "name": "stdout",
          "output_type": "stream",
          "text": [
            "Session ID 955991376 includes 1 experiments: [956903375]\n",
            "Experiment 956903375 includes 19 cells.\n"
          ]
        },
        {
          "name": "stderr",
          "output_type": "stream",
          "text": [
            "100%|██████████| 19/19 [00:15<00:00,  1.26it/s]\n"
          ]
        },
        {
          "name": "stdout",
          "output_type": "stream",
          "text": [
            "Session ID 957189583 includes 1 experiments: [957652800]\n",
            "Experiment 957652800 includes 18 cells.\n"
          ]
        },
        {
          "name": "stderr",
          "output_type": "stream",
          "text": [
            "100%|██████████| 18/18 [00:14<00:00,  1.28it/s]\n"
          ]
        },
        {
          "name": "stdout",
          "output_type": "stream",
          "text": [
            "Session ID 958931715 includes 1 experiments: [959337347]\n",
            "Experiment 959337347 includes 23 cells.\n"
          ]
        },
        {
          "name": "stderr",
          "output_type": "stream",
          "text": [
            "100%|██████████| 23/23 [00:18<00:00,  1.23it/s]\n"
          ]
        },
        {
          "name": "stdout",
          "output_type": "stream",
          "text": [
            "Session ID 959751299 includes 1 experiments: [960351917]\n",
            "Experiment 960351917 includes 20 cells.\n"
          ]
        },
        {
          "name": "stderr",
          "output_type": "stream",
          "text": [
            "100%|██████████| 20/20 [00:15<00:00,  1.26it/s]\n"
          ]
        },
        {
          "name": "stdout",
          "output_type": "stream",
          "text": [
            "Session ID 960593969 includes 1 experiments: [960960480]\n",
            "Experiment 960960480 includes 21 cells.\n"
          ]
        },
        {
          "name": "stderr",
          "output_type": "stream",
          "text": [
            "100%|██████████| 21/21 [00:16<00:00,  1.26it/s]\n"
          ]
        },
        {
          "name": "stdout",
          "output_type": "stream",
          "text": [
            "--------------\n",
            "Mouse ID 476970 includes 8 sessions\n",
            "Session ID 993727065 includes 1 experiments: [993862620]\n",
            "Experiment 993862620 includes 18 cells.\n"
          ]
        },
        {
          "name": "stderr",
          "output_type": "stream",
          "text": [
            "100%|██████████| 18/18 [00:14<00:00,  1.25it/s]\n"
          ]
        },
        {
          "name": "stdout",
          "output_type": "stream",
          "text": [
            "Session ID 993984066 includes 1 experiments: [994053903]\n",
            "Experiment 994053903 includes 15 cells.\n"
          ]
        },
        {
          "name": "stderr",
          "output_type": "stream",
          "text": [
            "100%|██████████| 15/15 [00:12<00:00,  1.24it/s]\n"
          ]
        },
        {
          "name": "stdout",
          "output_type": "stream",
          "text": [
            "Session ID 994199725 includes 1 experiments: [994278281]\n",
            "Experiment 994278281 includes 17 cells.\n"
          ]
        },
        {
          "name": "stderr",
          "output_type": "stream",
          "text": [
            "100%|██████████| 17/17 [00:13<00:00,  1.27it/s]\n"
          ]
        },
        {
          "name": "stdout",
          "output_type": "stream",
          "text": [
            "Session ID 994731371 includes 1 experiments: [994790561]\n",
            "Experiment 994790561 includes 13 cells.\n"
          ]
        },
        {
          "name": "stderr",
          "output_type": "stream",
          "text": [
            "100%|██████████| 13/13 [00:09<00:00,  1.32it/s]\n"
          ]
        },
        {
          "name": "stdout",
          "output_type": "stream",
          "text": [
            "Session ID 994883056 includes 1 experiments: [994955425]\n",
            "Experiment 994955425 includes 16 cells.\n"
          ]
        },
        {
          "name": "stderr",
          "output_type": "stream",
          "text": [
            "100%|██████████| 16/16 [00:12<00:00,  1.26it/s]\n"
          ]
        },
        {
          "name": "stdout",
          "output_type": "stream",
          "text": [
            "Session ID 995115654 includes 1 experiments: [995280513]\n",
            "Experiment 995280513 includes 13 cells.\n"
          ]
        },
        {
          "name": "stderr",
          "output_type": "stream",
          "text": [
            "100%|██████████| 13/13 [00:10<00:00,  1.24it/s]\n"
          ]
        },
        {
          "name": "stdout",
          "output_type": "stream",
          "text": [
            "Session ID 995359867 includes 1 experiments: [995439942]\n",
            "Experiment 995439942 includes 15 cells.\n"
          ]
        },
        {
          "name": "stderr",
          "output_type": "stream",
          "text": [
            "100%|██████████| 15/15 [00:11<00:00,  1.31it/s]\n"
          ]
        },
        {
          "name": "stdout",
          "output_type": "stream",
          "text": [
            "Session ID 995560574 includes 1 experiments: [995622557]\n",
            "Experiment 995622557 includes 8 cells.\n"
          ]
        },
        {
          "name": "stderr",
          "output_type": "stream",
          "text": [
            "100%|██████████| 8/8 [00:06<00:00,  1.19it/s]\n"
          ]
        },
        {
          "name": "stdout",
          "output_type": "stream",
          "text": [
            "--------------\n",
            "Mouse ID 477202 includes 9 sessions\n",
            "Session ID 977726123 includes 1 experiments: [977935606]\n",
            "Experiment 977935606 includes 8 cells.\n"
          ]
        },
        {
          "name": "stderr",
          "output_type": "stream",
          "text": [
            "100%|██████████| 8/8 [00:06<00:00,  1.31it/s]\n"
          ]
        },
        {
          "name": "stdout",
          "output_type": "stream",
          "text": [
            "Session ID 978361838 includes 1 experiments: [978827848]\n"
          ]
        },
        {
          "name": "stderr",
          "output_type": "stream",
          "text": [
            "behavior_ophys_experiment_978827848.nwb: 100%|██████████| 288M/288M [00:12<00:00, 23.0MMB/s]    \n"
          ]
        },
        {
          "name": "stdout",
          "output_type": "stream",
          "text": [
            "Experiment 978827848 includes 10 cells.\n"
          ]
        },
        {
          "name": "stderr",
          "output_type": "stream",
          "text": [
            "100%|██████████| 10/10 [00:08<00:00,  1.24it/s]\n"
          ]
        },
        {
          "name": "stdout",
          "output_type": "stream",
          "text": [
            "Session ID 979379271 includes 1 experiments: [979668410]\n"
          ]
        },
        {
          "name": "stderr",
          "output_type": "stream",
          "text": [
            "behavior_ophys_experiment_979668410.nwb: 100%|██████████| 283M/283M [00:12<00:00, 22.7MMB/s]    \n"
          ]
        },
        {
          "name": "stdout",
          "output_type": "stream",
          "text": [
            "Experiment 979668410 includes 12 cells.\n"
          ]
        },
        {
          "name": "stderr",
          "output_type": "stream",
          "text": [
            "100%|██████████| 12/12 [00:09<00:00,  1.28it/s]\n"
          ]
        },
        {
          "name": "stdout",
          "output_type": "stream",
          "text": [
            "Session ID 979968637 includes 1 experiments: [980673831]\n"
          ]
        },
        {
          "name": "stderr",
          "output_type": "stream",
          "text": [
            "behavior_ophys_experiment_980673831.nwb: 100%|██████████| 288M/288M [00:12<00:00, 23.2MMB/s]    \n"
          ]
        },
        {
          "name": "stdout",
          "output_type": "stream",
          "text": [
            "Experiment 980673831 includes 10 cells.\n"
          ]
        },
        {
          "name": "stderr",
          "output_type": "stream",
          "text": [
            "100%|██████████| 10/10 [00:07<00:00,  1.26it/s]\n"
          ]
        },
        {
          "name": "stdout",
          "output_type": "stream",
          "text": [
            "Session ID 981863572 includes 1 experiments: [982183920]\n"
          ]
        },
        {
          "name": "stderr",
          "output_type": "stream",
          "text": [
            "behavior_ophys_experiment_982183920.nwb: 100%|██████████| 270M/270M [00:11<00:00, 23.6MMB/s]    \n"
          ]
        },
        {
          "name": "stdout",
          "output_type": "stream",
          "text": [
            "Experiment 982183920 includes 9 cells.\n"
          ]
        },
        {
          "name": "stderr",
          "output_type": "stream",
          "text": [
            "100%|██████████| 9/9 [00:07<00:00,  1.25it/s]\n"
          ]
        },
        {
          "name": "stdout",
          "output_type": "stream",
          "text": [
            "Session ID 982662790 includes 1 experiments: [982862427]\n"
          ]
        },
        {
          "name": "stderr",
          "output_type": "stream",
          "text": [
            "behavior_ophys_experiment_982862427.nwb: 100%|██████████| 273M/273M [00:11<00:00, 23.1MMB/s]    \n"
          ]
        },
        {
          "name": "stdout",
          "output_type": "stream",
          "text": [
            "Experiment 982862427 includes 9 cells.\n"
          ]
        },
        {
          "name": "stderr",
          "output_type": "stream",
          "text": [
            "100%|██████████| 9/9 [00:07<00:00,  1.25it/s]\n"
          ]
        },
        {
          "name": "stdout",
          "output_type": "stream",
          "text": [
            "Session ID 986052947 includes 1 experiments: [986415685]\n"
          ]
        },
        {
          "name": "stderr",
          "output_type": "stream",
          "text": [
            "behavior_ophys_experiment_986415685.nwb: 100%|██████████| 295M/295M [00:12<00:00, 23.7MMB/s]    \n"
          ]
        },
        {
          "name": "stdout",
          "output_type": "stream",
          "text": [
            "Experiment 986415685 includes 15 cells.\n"
          ]
        },
        {
          "name": "stderr",
          "output_type": "stream",
          "text": [
            "100%|██████████| 15/15 [00:11<00:00,  1.28it/s]\n"
          ]
        },
        {
          "name": "stdout",
          "output_type": "stream",
          "text": [
            "Session ID 987896411 includes 1 experiments: [988542657]\n"
          ]
        },
        {
          "name": "stderr",
          "output_type": "stream",
          "text": [
            "behavior_ophys_experiment_988542657.nwb: 100%|██████████| 270M/270M [00:11<00:00, 22.9MMB/s]    \n"
          ]
        },
        {
          "name": "stdout",
          "output_type": "stream",
          "text": [
            "Experiment 988542657 includes 8 cells.\n"
          ]
        },
        {
          "name": "stderr",
          "output_type": "stream",
          "text": [
            "100%|██████████| 8/8 [00:05<00:00,  1.34it/s]\n"
          ]
        },
        {
          "name": "stdout",
          "output_type": "stream",
          "text": [
            "Session ID 988900179 includes 1 experiments: [989192360]\n"
          ]
        },
        {
          "name": "stderr",
          "output_type": "stream",
          "text": [
            "behavior_ophys_experiment_989192360.nwb: 100%|██████████| 275M/275M [00:11<00:00, 23.4MMB/s]    \n"
          ]
        },
        {
          "name": "stdout",
          "output_type": "stream",
          "text": [
            "Experiment 989192360 includes 8 cells.\n"
          ]
        },
        {
          "name": "stderr",
          "output_type": "stream",
          "text": [
            "100%|██████████| 8/8 [00:06<00:00,  1.31it/s]\n"
          ]
        },
        {
          "name": "stdout",
          "output_type": "stream",
          "text": [
            "--------------\n",
            "Mouse ID 480753 includes 7 sessions\n",
            "Session ID 982431228 includes 1 experiments: [982862443]\n"
          ]
        },
        {
          "name": "stderr",
          "output_type": "stream",
          "text": [
            "behavior_ophys_experiment_982862443.nwb: 100%|██████████| 248M/248M [00:10<00:00, 22.8MMB/s]    \n"
          ]
        },
        {
          "name": "stdout",
          "output_type": "stream",
          "text": [
            "Experiment 982862443 includes 6 cells.\n"
          ]
        },
        {
          "name": "stderr",
          "output_type": "stream",
          "text": [
            "100%|██████████| 6/6 [00:04<00:00,  1.31it/s]\n"
          ]
        },
        {
          "name": "stdout",
          "output_type": "stream",
          "text": [
            "Session ID 982980548 includes 1 experiments: [984551228]\n"
          ]
        },
        {
          "name": "stderr",
          "output_type": "stream",
          "text": [
            "behavior_ophys_experiment_984551228.nwb: 100%|██████████| 243M/243M [00:10<00:00, 23.1MMB/s]    \n"
          ]
        },
        {
          "name": "stdout",
          "output_type": "stream",
          "text": [
            "Experiment 984551228 includes 5 cells.\n"
          ]
        },
        {
          "name": "stderr",
          "output_type": "stream",
          "text": [
            "100%|██████████| 5/5 [00:03<00:00,  1.33it/s]\n"
          ]
        },
        {
          "name": "stdout",
          "output_type": "stream",
          "text": [
            "Session ID 985610440 includes 1 experiments: [986402309]\n"
          ]
        },
        {
          "name": "stderr",
          "output_type": "stream",
          "text": [
            "behavior_ophys_experiment_986402309.nwb: 100%|██████████| 238M/238M [00:11<00:00, 21.3MMB/s]    \n"
          ]
        },
        {
          "name": "stdout",
          "output_type": "stream",
          "text": [
            "Experiment 986402309 includes 4 cells.\n"
          ]
        },
        {
          "name": "stderr",
          "output_type": "stream",
          "text": [
            "100%|██████████| 4/4 [00:03<00:00,  1.22it/s]\n"
          ]
        },
        {
          "name": "stdout",
          "output_type": "stream",
          "text": [
            "Session ID 987623801 includes 1 experiments: [988542529]\n"
          ]
        },
        {
          "name": "stderr",
          "output_type": "stream",
          "text": [
            "behavior_ophys_experiment_988542529.nwb: 100%|██████████| 236M/236M [00:10<00:00, 22.8MMB/s]    \n"
          ]
        },
        {
          "name": "stdout",
          "output_type": "stream",
          "text": [
            "Experiment 988542529 includes 3 cells.\n"
          ]
        },
        {
          "name": "stderr",
          "output_type": "stream",
          "text": [
            "100%|██████████| 3/3 [00:02<00:00,  1.32it/s]\n"
          ]
        },
        {
          "name": "stdout",
          "output_type": "stream",
          "text": [
            "Session ID 988770902 includes 1 experiments: [989191384]\n"
          ]
        },
        {
          "name": "stderr",
          "output_type": "stream",
          "text": [
            "behavior_ophys_experiment_989191384.nwb: 100%|██████████| 238M/238M [00:10<00:00, 23.3MMB/s]    \n"
          ]
        },
        {
          "name": "stdout",
          "output_type": "stream",
          "text": [
            "Experiment 989191384 includes 4 cells.\n"
          ]
        },
        {
          "name": "stderr",
          "output_type": "stream",
          "text": [
            "100%|██████████| 4/4 [00:03<00:00,  1.33it/s]\n"
          ]
        },
        {
          "name": "stdout",
          "output_type": "stream",
          "text": [
            "Session ID 989281032 includes 1 experiments: [989594023]\n"
          ]
        },
        {
          "name": "stderr",
          "output_type": "stream",
          "text": [
            "behavior_ophys_experiment_989594023.nwb: 100%|██████████| 238M/238M [00:10<00:00, 22.5MMB/s]    \n"
          ]
        },
        {
          "name": "stdout",
          "output_type": "stream",
          "text": [
            "Experiment 989594023 includes 4 cells.\n"
          ]
        },
        {
          "name": "stderr",
          "output_type": "stream",
          "text": [
            "100%|██████████| 4/4 [00:03<00:00,  1.17it/s]\n"
          ]
        },
        {
          "name": "stdout",
          "output_type": "stream",
          "text": [
            "Session ID 990144181 includes 1 experiments: [990381322]\n"
          ]
        },
        {
          "name": "stderr",
          "output_type": "stream",
          "text": [
            "behavior_ophys_experiment_990381322.nwb: 100%|██████████| 236M/236M [00:12<00:00, 18.9MMB/s]    \n"
          ]
        },
        {
          "name": "stdout",
          "output_type": "stream",
          "text": [
            "Experiment 990381322 includes 3 cells.\n"
          ]
        },
        {
          "name": "stderr",
          "output_type": "stream",
          "text": [
            "100%|██████████| 3/3 [00:02<00:00,  1.17it/s]\n"
          ]
        },
        {
          "name": "stdout",
          "output_type": "stream",
          "text": [
            "--------------\n",
            "Mouse ID 485688 includes 6 sessions\n",
            "Session ID 992232718 includes 1 experiments: [992296756]\n"
          ]
        },
        {
          "name": "stderr",
          "output_type": "stream",
          "text": [
            "behavior_ophys_experiment_992296756.nwb: 100%|██████████| 327M/327M [00:14<00:00, 23.4MMB/s]    \n"
          ]
        },
        {
          "name": "stdout",
          "output_type": "stream",
          "text": [
            "Experiment 992296756 includes 17 cells.\n"
          ]
        },
        {
          "name": "stderr",
          "output_type": "stream",
          "text": [
            "100%|██████████| 17/17 [00:13<00:00,  1.26it/s]\n"
          ]
        },
        {
          "name": "stdout",
          "output_type": "stream",
          "text": [
            "Session ID 992396398 includes 1 experiments: [992572516]\n"
          ]
        },
        {
          "name": "stderr",
          "output_type": "stream",
          "text": [
            "behavior_ophys_experiment_992572516.nwb: 100%|██████████| 295M/295M [00:13<00:00, 21.9MMB/s]    \n"
          ]
        },
        {
          "name": "stdout",
          "output_type": "stream",
          "text": [
            "Experiment 992572516 includes 13 cells.\n"
          ]
        },
        {
          "name": "stderr",
          "output_type": "stream",
          "text": [
            "100%|██████████| 13/13 [00:10<00:00,  1.27it/s]\n"
          ]
        },
        {
          "name": "stdout",
          "output_type": "stream",
          "text": [
            "Session ID 992783847 includes 1 experiments: [992870927]\n"
          ]
        },
        {
          "name": "stderr",
          "output_type": "stream",
          "text": [
            "behavior_ophys_experiment_992870927.nwb: 100%|██████████| 300M/300M [00:12<00:00, 23.5MMB/s]    \n"
          ]
        },
        {
          "name": "stdout",
          "output_type": "stream",
          "text": [
            "Experiment 992870927 includes 18 cells.\n"
          ]
        },
        {
          "name": "stderr",
          "output_type": "stream",
          "text": [
            "100%|██████████| 18/18 [00:14<00:00,  1.25it/s]\n"
          ]
        },
        {
          "name": "stdout",
          "output_type": "stream",
          "text": [
            "Session ID 993265436 includes 1 experiments: [993344860]\n"
          ]
        },
        {
          "name": "stderr",
          "output_type": "stream",
          "text": [
            "behavior_ophys_experiment_993344860.nwb: 100%|██████████| 293M/293M [00:13<00:00, 21.4MMB/s]    \n"
          ]
        },
        {
          "name": "stdout",
          "output_type": "stream",
          "text": [
            "Experiment 993344860 includes 14 cells.\n"
          ]
        },
        {
          "name": "stderr",
          "output_type": "stream",
          "text": [
            "100%|██████████| 14/14 [00:11<00:00,  1.26it/s]\n"
          ]
        },
        {
          "name": "stdout",
          "output_type": "stream",
          "text": [
            "Session ID 993450968 includes 1 experiments: [993593393]\n"
          ]
        },
        {
          "name": "stderr",
          "output_type": "stream",
          "text": [
            "behavior_ophys_experiment_993593393.nwb: 100%|██████████| 317M/317M [00:13<00:00, 22.7MMB/s]    \n"
          ]
        },
        {
          "name": "stdout",
          "output_type": "stream",
          "text": [
            "Experiment 993593393 includes 17 cells.\n"
          ]
        },
        {
          "name": "stderr",
          "output_type": "stream",
          "text": [
            "100%|██████████| 17/17 [00:13<00:00,  1.27it/s]\n"
          ]
        },
        {
          "name": "stdout",
          "output_type": "stream",
          "text": [
            "Session ID 993716877 includes 1 experiments: [993864050]\n"
          ]
        },
        {
          "name": "stderr",
          "output_type": "stream",
          "text": [
            "behavior_ophys_experiment_993864050.nwb: 100%|██████████| 312M/312M [00:13<00:00, 23.7MMB/s]    \n"
          ]
        },
        {
          "name": "stdout",
          "output_type": "stream",
          "text": [
            "Experiment 993864050 includes 12 cells.\n"
          ]
        },
        {
          "name": "stderr",
          "output_type": "stream",
          "text": [
            "100%|██████████| 12/12 [00:09<00:00,  1.24it/s]\n"
          ]
        },
        {
          "name": "stdout",
          "output_type": "stream",
          "text": [
            "--------------\n",
            "Mouse ID 489056 includes 6 sessions\n",
            "Session ID 1000580083 includes 1 experiments: [1000743008]\n"
          ]
        },
        {
          "name": "stderr",
          "output_type": "stream",
          "text": [
            "behavior_ophys_experiment_1000743008.nwb: 100%|██████████| 246M/246M [00:10<00:00, 23.6MMB/s]    \n"
          ]
        },
        {
          "name": "stdout",
          "output_type": "stream",
          "text": [
            "Experiment 1000743008 includes 5 cells.\n"
          ]
        },
        {
          "name": "stderr",
          "output_type": "stream",
          "text": [
            "100%|██████████| 5/5 [00:03<00:00,  1.32it/s]\n"
          ]
        },
        {
          "name": "stdout",
          "output_type": "stream",
          "text": [
            "Session ID 1001381149 includes 1 experiments: [1001535125]\n"
          ]
        },
        {
          "name": "stderr",
          "output_type": "stream",
          "text": [
            "behavior_ophys_experiment_1001535125.nwb: 100%|██████████| 243M/243M [00:10<00:00, 23.0MMB/s]    \n"
          ]
        },
        {
          "name": "stdout",
          "output_type": "stream",
          "text": [
            "Experiment 1001535125 includes 6 cells.\n"
          ]
        },
        {
          "name": "stderr",
          "output_type": "stream",
          "text": [
            "100%|██████████| 6/6 [00:04<00:00,  1.22it/s]\n"
          ]
        },
        {
          "name": "stdout",
          "output_type": "stream",
          "text": [
            "Session ID 1001860744 includes 1 experiments: [1002314807]\n"
          ]
        },
        {
          "name": "stderr",
          "output_type": "stream",
          "text": [
            "behavior_ophys_experiment_1002314807.nwb: 100%|██████████| 290M/290M [00:12<00:00, 22.7MMB/s]    \n"
          ]
        },
        {
          "name": "stdout",
          "output_type": "stream",
          "text": [
            "Experiment 1002314807 includes 13 cells.\n"
          ]
        },
        {
          "name": "stderr",
          "output_type": "stream",
          "text": [
            "100%|██████████| 13/13 [00:10<00:00,  1.24it/s]\n"
          ]
        },
        {
          "name": "stdout",
          "output_type": "stream",
          "text": [
            "Session ID 1002969116 includes 1 experiments: [1003122317]\n"
          ]
        },
        {
          "name": "stderr",
          "output_type": "stream",
          "text": [
            "behavior_ophys_experiment_1003122317.nwb: 100%|██████████| 290M/290M [00:12<00:00, 22.8MMB/s]    \n"
          ]
        },
        {
          "name": "stdout",
          "output_type": "stream",
          "text": [
            "Experiment 1003122317 includes 12 cells.\n"
          ]
        },
        {
          "name": "stderr",
          "output_type": "stream",
          "text": [
            "100%|██████████| 12/12 [00:09<00:00,  1.27it/s]\n"
          ]
        },
        {
          "name": "stdout",
          "output_type": "stream",
          "text": [
            "Session ID 1003277121 includes 1 experiments: [1003456269]\n"
          ]
        },
        {
          "name": "stderr",
          "output_type": "stream",
          "text": [
            "behavior_ophys_experiment_1003456269.nwb: 100%|██████████| 265M/265M [00:40<00:00, 6.58MMB/s]    \n"
          ]
        },
        {
          "name": "stdout",
          "output_type": "stream",
          "text": [
            "Experiment 1003456269 includes 13 cells.\n"
          ]
        },
        {
          "name": "stderr",
          "output_type": "stream",
          "text": [
            "100%|██████████| 13/13 [00:10<00:00,  1.26it/s]\n"
          ]
        },
        {
          "name": "stdout",
          "output_type": "stream",
          "text": [
            "Session ID 1003591875 includes 1 experiments: [1003771249]\n"
          ]
        },
        {
          "name": "stderr",
          "output_type": "stream",
          "text": [
            "behavior_ophys_experiment_1003771249.nwb: 100%|██████████| 265M/265M [00:11<00:00, 23.6MMB/s]    \n"
          ]
        },
        {
          "name": "stdout",
          "output_type": "stream",
          "text": [
            "Experiment 1003771249 includes 11 cells.\n"
          ]
        },
        {
          "name": "stderr",
          "output_type": "stream",
          "text": [
            "100%|██████████| 11/11 [00:08<00:00,  1.25it/s]\n"
          ]
        },
        {
          "name": "stdout",
          "output_type": "stream",
          "text": [
            "--------------\n",
            "Mouse ID 498972 includes 8 sessions\n",
            "Session ID 1010159622 includes 1 experiments: [1010256573]\n"
          ]
        },
        {
          "name": "stderr",
          "output_type": "stream",
          "text": [
            "behavior_ophys_experiment_1010256573.nwb: 100%|██████████| 258M/258M [00:11<00:00, 22.3MMB/s]    \n"
          ]
        },
        {
          "name": "stdout",
          "output_type": "stream",
          "text": [
            "Experiment 1010256573 includes 7 cells.\n"
          ]
        },
        {
          "name": "stderr",
          "output_type": "stream",
          "text": [
            "100%|██████████| 7/7 [00:05<00:00,  1.31it/s]\n"
          ]
        },
        {
          "name": "stdout",
          "output_type": "stream",
          "text": [
            "Session ID 1010373053 includes 1 experiments: [1010530054]\n"
          ]
        },
        {
          "name": "stderr",
          "output_type": "stream",
          "text": [
            "behavior_ophys_experiment_1010530054.nwb: 100%|██████████| 268M/268M [00:26<00:00, 10.1MMB/s]    \n"
          ]
        },
        {
          "name": "stdout",
          "output_type": "stream",
          "text": [
            "Experiment 1010530054 includes 13 cells.\n"
          ]
        },
        {
          "name": "stderr",
          "output_type": "stream",
          "text": [
            "100%|██████████| 13/13 [00:10<00:00,  1.28it/s]\n"
          ]
        },
        {
          "name": "stdout",
          "output_type": "stream",
          "text": [
            "Session ID 1010684546 includes 1 experiments: [1010812025]\n"
          ]
        },
        {
          "name": "stderr",
          "output_type": "stream",
          "text": [
            "behavior_ophys_experiment_1010812025.nwb: 100%|██████████| 263M/263M [00:11<00:00, 22.0MMB/s]    \n"
          ]
        },
        {
          "name": "stdout",
          "output_type": "stream",
          "text": [
            "Experiment 1010812025 includes 11 cells.\n"
          ]
        },
        {
          "name": "stderr",
          "output_type": "stream",
          "text": [
            "100%|██████████| 11/11 [00:08<00:00,  1.27it/s]\n"
          ]
        },
        {
          "name": "stdout",
          "output_type": "stream",
          "text": [
            "Session ID 1011877572 includes 1 experiments: [1012112426]\n"
          ]
        },
        {
          "name": "stderr",
          "output_type": "stream",
          "text": [
            "behavior_ophys_experiment_1012112426.nwb: 100%|██████████| 255M/255M [00:10<00:00, 23.6MMB/s]    \n"
          ]
        },
        {
          "name": "stdout",
          "output_type": "stream",
          "text": [
            "Experiment 1012112426 includes 8 cells.\n"
          ]
        },
        {
          "name": "stderr",
          "output_type": "stream",
          "text": [
            "100%|██████████| 8/8 [00:06<00:00,  1.24it/s]\n"
          ]
        },
        {
          "name": "stdout",
          "output_type": "stream",
          "text": [
            "Session ID 1012256308 includes 1 experiments: [1012467113]\n"
          ]
        },
        {
          "name": "stderr",
          "output_type": "stream",
          "text": [
            "behavior_ophys_experiment_1012467113.nwb: 100%|██████████| 268M/268M [00:13<00:00, 19.9MMB/s]    \n"
          ]
        },
        {
          "name": "stdout",
          "output_type": "stream",
          "text": [
            "Experiment 1012467113 includes 11 cells.\n"
          ]
        },
        {
          "name": "stderr",
          "output_type": "stream",
          "text": [
            "100%|██████████| 11/11 [00:08<00:00,  1.25it/s]\n"
          ]
        },
        {
          "name": "stdout",
          "output_type": "stream",
          "text": [
            "Session ID 1012635881 includes 1 experiments: [1012746738]\n"
          ]
        },
        {
          "name": "stderr",
          "output_type": "stream",
          "text": [
            "behavior_ophys_experiment_1012746738.nwb: 100%|██████████| 265M/265M [00:11<00:00, 23.1MMB/s]    \n"
          ]
        },
        {
          "name": "stdout",
          "output_type": "stream",
          "text": [
            "Experiment 1012746738 includes 8 cells.\n"
          ]
        },
        {
          "name": "stderr",
          "output_type": "stream",
          "text": [
            "100%|██████████| 8/8 [00:06<00:00,  1.31it/s]\n"
          ]
        },
        {
          "name": "stdout",
          "output_type": "stream",
          "text": [
            "Session ID 1012846464 includes 1 experiments: [1012910704]\n"
          ]
        },
        {
          "name": "stderr",
          "output_type": "stream",
          "text": [
            "behavior_ophys_experiment_1012910704.nwb: 100%|██████████| 261M/261M [00:11<00:00, 23.3MMB/s]    \n"
          ]
        },
        {
          "name": "stdout",
          "output_type": "stream",
          "text": [
            "Experiment 1012910704 includes 7 cells.\n"
          ]
        },
        {
          "name": "stderr",
          "output_type": "stream",
          "text": [
            "100%|██████████| 7/7 [00:05<00:00,  1.30it/s]\n"
          ]
        },
        {
          "name": "stdout",
          "output_type": "stream",
          "text": [
            "Session ID 1013000229 includes 1 experiments: [1013063357]\n"
          ]
        },
        {
          "name": "stderr",
          "output_type": "stream",
          "text": [
            "behavior_ophys_experiment_1013063357.nwb: 100%|██████████| 265M/265M [00:11<00:00, 23.2MMB/s]    \n"
          ]
        },
        {
          "name": "stdout",
          "output_type": "stream",
          "text": [
            "Experiment 1013063357 includes 10 cells.\n"
          ]
        },
        {
          "name": "stderr",
          "output_type": "stream",
          "text": [
            "100%|██████████| 10/10 [00:08<00:00,  1.23it/s]\n"
          ]
        }
      ],
      "source": [
        "# Loop over sessions for this mouse\n",
        "# note that there may be different subsets of cells in different sessions\n",
        "# some sessions will have multiple experiments (imaging planes), some may only have one\n",
        "#all_data = []\n",
        "#for mouse_id in target_mouse_ids[:3]:\n",
        "for mouse_id in target_mouse_ids:\n",
        "  print('--------------')\n",
        "  ophys_session_ids = session_table.query('mouse_id == @mouse_id').index\n",
        "  print(f'Mouse ID {mouse_id} includes {len(ophys_session_ids)} sessions')\n",
        "  mouse_data = []\n",
        "  for ophys_session_id in ophys_session_ids:\n",
        "    # Get session metadata\n",
        "    session_metadata = session_table.loc[ophys_session_id]\n",
        "    # Download experiments for each session\n",
        "    experiments = {} # clear experiments dictionary\n",
        "    ophys_experiment_ids = session_metadata['ophys_experiment_id']\n",
        "    print(f'Session ID {ophys_session_id} includes {len(ophys_experiment_ids)} experiments: {np.array(ophys_experiment_ids)}')\n",
        "    for ophys_experiment_id in ophys_experiment_ids:\n",
        "      experiments[ophys_experiment_id] = cache.get_behavior_ophys_experiment(ophys_experiment_id)\n",
        "    # stimulus table is shared for all experiments in a session\n",
        "    stimulus_table = experiments[ophys_experiment_ids[0]].stimulus_presentations.drop(columns = ['image_set'])  # 'image_set' is unnecessary\n",
        "    # Download neural data for each experiment\n",
        "    neural_data = []\n",
        "    for ophys_experiment_id in experiments.keys():\n",
        "      this_experiment = experiments[ophys_experiment_id]\n",
        "      this_experiment_neural_data = ophys.build_tidy_cell_df(this_experiment)\n",
        "      # add some columns with metadata for the experiment\n",
        "      metadata_keys = [\n",
        "          'ophys_experiment_id',\n",
        "          'ophys_session_id',\n",
        "          'targeted_structure',\n",
        "          'imaging_depth',\n",
        "          'equipment_name',\n",
        "          'cre_line',\n",
        "          'mouse_id',\n",
        "          'sex',\n",
        "      ]\n",
        "      for metadata_key in metadata_keys:\n",
        "        this_experiment_neural_data[metadata_key] = this_experiment.metadata[metadata_key]\n",
        "\n",
        "      # append the data for this experiment to a list\n",
        "      neural_data.append(this_experiment_neural_data)\n",
        "      print(f'Experiment {ophys_experiment_id} includes {len(this_experiment_neural_data[\"cell_specimen_id\"].unique())} cells.')\n",
        "      #: {np.array(this_experiment_neural_data[\"cell_specimen_id\"].unique())}')\n",
        "\n",
        "    # concatate the list of dataframes into a single dataframe\n",
        "    neural_data = pd.concat(neural_data)\n",
        "\n",
        "    full_etr_l = []\n",
        "    # Get the experiment-long timeseries for each cell\n",
        "    for cell_specimen_id in tqdm(neural_data['cell_specimen_id'].unique()):\n",
        "      # calculate the event triggered response for this cell to every stimulus\n",
        "      full_etr_this_cell = mindscope_utilities.event_triggered_response(\n",
        "          data=neural_data.query('cell_specimen_id == @cell_specimen_id'),\n",
        "          t='timestamps',\n",
        "          y='dff', #'dff', 'events', 'filtered_events'\n",
        "          event_times=stimulus_table['start_time'],\n",
        "          t_before=0.5,\n",
        "          t_after=0.75,\n",
        "          output_sampling_rate=30, # Hz (so 30 = every 33 ms)\n",
        "      )\n",
        "      # add a column identifying the cell_specimen_id\n",
        "      full_etr_this_cell['cell_specimen_id'] = cell_specimen_id\n",
        "      # append to our list\n",
        "      full_etr_l.append(full_etr_this_cell)\n",
        "\n",
        "    # concatenate our list of dataframes into a single dataframe\n",
        "    full_etr = pd.concat(full_etr_l)\n",
        "\n",
        "    # cast these numeric columns to int and float, respectively\n",
        "    full_etr['event_number'] = full_etr['event_number'].astype(int)\n",
        "    full_etr['event_time'] = full_etr['event_number'].astype(float)\n",
        "\n",
        "    # Compute the average firing rate\n",
        "    # Default is the average from 0 to 500 ms\n",
        "    # We will also compute a baseline-corrected version 'dff_bc'\n",
        "    average_0_to_500 = full_etr.query('time >= 0 and time <= .5').groupby(['cell_specimen_id', 'stimulus_presentations_id'])[['dff']].mean().reset_index()\n",
        "    average_n133_to_n33 = full_etr.query('time > -.15 and time < 0').groupby(['cell_specimen_id', 'stimulus_presentations_id'])[['dff']].mean().reset_index()\n",
        "    dff_bc = average_0_to_500['dff']-average_n133_to_n33['dff']\n",
        "\n",
        "    average_responses = average_0_to_500.merge(\n",
        "      stimulus_table,\n",
        "      on='stimulus_presentations_id',\n",
        "      how='left'\n",
        "    )\n",
        "    average_responses['dff_stim500'] = average_0_to_500['dff']\n",
        "    average_responses['dff_bc'] = dff_bc\n",
        "    average_responses['trace'] = full_etr.groupby(['cell_specimen_id','stimulus_presentations_id'])['dff'].apply(list).values\n",
        "    average_responses['trace_timestamps'] = full_etr.groupby(['cell_specimen_id','stimulus_presentations_id'])['time'].apply(list).values\n",
        "    additional_metadata = neural_data.groupby('cell_specimen_id')[metadata_keys].max().reset_index()\n",
        "    average_responses = average_responses.merge(additional_metadata,on='cell_specimen_id',how='left')\n",
        "    mouse_data.append(average_responses)\n",
        "\n",
        "  # Finished a mouse!\n",
        "  mouse_data = pd.concat(mouse_data)\n",
        "\n",
        "  # Add some additional metadata\n",
        "  lol = session_table.query('mouse_id == @mouse_id')\n",
        "  lol = lol.groupby(['ophys_session_id']).max().reset_index()\n",
        "  lol['exposure_level'] = lol['session_number']>3\n",
        "  lol = lol.replace({'exposure_level': {False:'familiar',True:'novel'}})\n",
        "  mouse_data = mouse_data.merge(\n",
        "      lol[['mouse_id','ophys_session_id','session_number','exposure_level']],\n",
        "      on=['mouse_id','ophys_session_id'],\n",
        "      how='left'\n",
        "  )\n",
        "\n",
        "  # remove some unnecessary data\n",
        "  unneeded = ['start_time','stop_time','duration','image_index','start_frame','end_frame','equipment_name','trace_timestamps']\n",
        "  mouse_data = mouse_data.drop(unneeded,axis=1)\n",
        "\n",
        "  # change data types for memory efficiency\n",
        "  change_type_dict = {'cell_specimen_id': 'category',\n",
        "                      'stimulus_presentations_id':'int16',\n",
        "                      'dff': 'float16',\n",
        "                      'dff_stim500': 'float16',\n",
        "                      'image_name': 'category',\n",
        "                      'dff_bc': 'float16',\n",
        "                      'ophys_experiment_id': 'category',\n",
        "                      'ophys_session_id': 'category',\n",
        "                      'targeted_structure': 'category',\n",
        "                      'imaging_depth': 'int16',\n",
        "                      'cre_line': 'category',\n",
        "                      'mouse_id': 'category',\n",
        "                      'sex': 'category',\n",
        "                      'session_number': 'int8',\n",
        "                      'exposure_level': 'category'\n",
        "                      }\n",
        "  mouse_data = mouse_data.astype(change_type_dict)\n",
        "\n",
        "  mouse_data.to_pickle(f'{save_data_directory}{target_cre_lines[0][:3]}_mouse{mouse_id}.pkl')\n",
        "  #all_data.append(mouse_data)\n",
        "\n",
        "# Finished all mice!\n",
        "#all_data = pd.concat(all_data)"
      ]
    },
    {
      "cell_type": "code",
      "execution_count": null,
      "metadata": {
        "id": "x6NpgbQLvPFP"
      },
      "outputs": [],
      "source": [
        "# To access categorical information\n",
        "#all_data1['image_name'].cat.categories\n",
        "#all_data1['image_name'].cat.codes\n",
        "\n",
        "# The trace timestamps\n",
        "#trace_timestamps = np.linspace(-0.5,0.7333333333333334,38)"
      ]
    }
  ],
  "metadata": {
    "colab": {
      "collapsed_sections": [],
      "name": "GetAllPresentationDataAllenVisualBehavior.ipynb",
      "provenance": []
    },
    "kernelspec": {
      "display_name": "Python 3.8.13 ('mindscope_utilities')",
      "language": "python",
      "name": "python3"
    },
    "language_info": {
      "codemirror_mode": {
        "name": "ipython",
        "version": 3
      },
      "file_extension": ".py",
      "mimetype": "text/x-python",
      "name": "python",
      "nbconvert_exporter": "python",
      "pygments_lexer": "ipython3",
      "version": "3.8.13"
    },
    "vscode": {
      "interpreter": {
        "hash": "c2d75289377afe78148052a4afb146342057af0f156c5d68e5a1810c42f31f9e"
      }
    }
  },
  "nbformat": 4,
  "nbformat_minor": 0
}
