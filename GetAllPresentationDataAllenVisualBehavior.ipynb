{
  "cells": [
    {
      "cell_type": "code",
      "execution_count": 2,
      "metadata": {
        "id": "2nOISReVf9gc"
      },
      "outputs": [],
      "source": [
        "## NB: YOU MUST DOWNGRADE TO PANDAS 1.23 (for Python <= 3.8) OR PICKLED DFs WILL BE UNREADABLE BY COLAB\n",
        "\n",
        "# Import packages\n",
        "import os\n",
        "import requests\n",
        "import numpy as np\n",
        "import pandas as pd\n",
        "from tqdm import tqdm\n",
        "import seaborn as sns\n",
        "import matplotlib.pyplot as plt\n",
        "\n",
        "from sklearn import svm\n",
        "from sklearn.model_selection import train_test_split\n",
        "from sklearn.metrics import confusion_matrix, accuracy_score\n",
        "from sklearn.manifold import TSNE\n",
        "\n",
        "import mindscope_utilities\n",
        "import mindscope_utilities.visual_behavior_ophys as ophys\n",
        "\n",
        "from allensdk.brain_observatory.behavior.behavior_project_cache import VisualBehaviorOphysProjectCache\n",
        "\n",
        "pd.set_option('display.max_columns', 500)\n",
        "\n",
        "# Mount Google Drive\n",
        "try:\n",
        "  import google.colab\n",
        "  google.colab.drive.mount('/content/drive')\n",
        "  cache_directory = \"/temp/\"  # Note: this path must exist on your local drive\n",
        "  save_data_directory = '/content/drive/MyDrive/'\n",
        "  IN_COLAB = True\n",
        "except:\n",
        "  cache_directory = \"./cache/\"  # Note: this path must exist on your local drive\n",
        "  save_data_directory = './'\n",
        "  IN_COLAB = False"
      ]
    },
    {
      "cell_type": "code",
      "execution_count": 3,
      "metadata": {
        "id": "b9n1opBIJ2Y3"
      },
      "outputs": [],
      "source": [
        "# Get preprocessed dataset\n",
        "# fname = \"allen_visual_behavior_2p_change_detection_familiar_novel_image_sets.parquet\"\n",
        "# url = \"https://ndownloader.figshare.com/files/28470255\"\n",
        "# if not os.path.isfile(fname):\n",
        "#   try:\n",
        "#     r = requests.get(url)\n",
        "#   except requests.ConnectionError:\n",
        "#     print(\"!!! Failed to download data !!!\")\n",
        "#   else:\n",
        "#     if r.status_code != requests.codes.ok:\n",
        "#       print(\"!!! Failed to download data !!!\")\n",
        "#     else:\n",
        "#       with open(fname, \"wb\") as fid:\n",
        "#         fid.write(r.content)\n",
        "\n",
        "# filename = \"allen_visual_behavior_2p_change_detection_familiar_novel_image_sets.parquet\"\n",
        "# preprocessed_data = pd.read_parquet(filename)\n",
        "# preprocessed_data.head(5)\n",
        "\n",
        "# print(preprocessed_data.session_type.unique())\n",
        "# print(np.sort(preprocessed_data.query('cre_line == \"Vip-IRES-Cre\" and session_type == \"OPHYS_3_images_B\"')['mouse_id'].unique()))\n",
        "# print(np.sort(preprocessed_data.query('cre_line == \"Vip-IRES-Cre\" and session_type == \"OPHYS_4_images_A\"')['mouse_id'].unique()))"
      ]
    },
    {
      "cell_type": "code",
      "execution_count": 4,
      "metadata": {
        "id": "oykbLfyXgCl3"
      },
      "outputs": [],
      "source": [
        "# Get high-level csv files from S3 storage\n",
        "cache = VisualBehaviorOphysProjectCache.from_s3_cache(cache_dir=cache_directory)"
      ]
    },
    {
      "cell_type": "code",
      "execution_count": 5,
      "metadata": {
        "colab": {
          "base_uri": "https://localhost:8080/"
        },
        "id": "qrB2d6eOGItN",
        "outputId": "52519b98-fb6a-41e3-dfde-0154e05f23db"
      },
      "outputs": [
        {
          "name": "stdout",
          "output_type": "stream",
          "text": [
            "['OPHYS_1_images_A' 'OPHYS_2_images_A_passive' 'OPHYS_3_images_A'\n",
            " 'OPHYS_4_images_B' 'OPHYS_5_images_B_passive' 'OPHYS_6_images_B'\n",
            " 'OPHYS_1_images_B' 'OPHYS_2_images_B_passive' 'OPHYS_3_images_B'\n",
            " 'OPHYS_4_images_A' 'OPHYS_6_images_A' 'OPHYS_5_images_A_passive'\n",
            " 'OPHYS_1_images_G' 'OPHYS_3_images_G' 'OPHYS_2_images_G_passive'\n",
            " 'OPHYS_4_images_H' 'OPHYS_5_images_H_passive' 'OPHYS_6_images_H']\n",
            "['Sst-IRES-Cre' 'Vip-IRES-Cre' 'Slc17a7-IRES2-Cre']\n"
          ]
        }
      ],
      "source": [
        "# Load session table (and experiment table if desired) as data frames\n",
        "session_table = cache.get_ophys_session_table()\n",
        "#ophys_session_ids = session_table.index\n",
        "#experiment_table = cache.get_ophys_experiment_table()\n",
        "print(session_table.session_type.unique())\n",
        "print(session_table.cre_line.unique())"
      ]
    },
    {
      "cell_type": "code",
      "execution_count": 6,
      "metadata": {
        "id": "hvFAkFpEf-tX"
      },
      "outputs": [
        {
          "name": "stdout",
          "output_type": "stream",
          "text": [
            "Int64Index([461946, 462468, 462544, 464204, 464207, 476067, 476631, 479458,\n",
            "            491060, 512458, 513626, 533161, 539517, 539518, 548950],\n",
            "           dtype='int64', name='mouse_id')\n"
          ]
        }
      ],
      "source": [
        "# Select a subset of mouse cre lines and sessions\n",
        "target_cre_lines = [\"Slc17a7-IRES2-Cre\"]\n",
        "target_session_types = [\"OPHYS_1_images_B\", \"OPHYS_3_images_B\", \"OPHYS_4_images_A\", \"OPHYS_6_images_A\"];\n",
        "session_table_subset = session_table.query('cre_line in @target_cre_lines and session_type in @target_session_types')\n",
        "\n",
        "# Determine which mice in this subset have data from ALL sessions\n",
        "#session_table_subset.groupby(['mouse_id','session_type'])['age_in_days'].mean()\n",
        "mouse_sessions = pd.DataFrame(session_table_subset.groupby(['mouse_id',])['session_type'].unique())\n",
        "mouse_sessions['has_all_sessions'] = mouse_sessions.apply(lambda x: len(x['session_type'])==4, axis=1)\n",
        "target_mouse_ids = mouse_sessions.query('has_all_sessions').index\n",
        "print(target_mouse_ids)"
      ]
    },
    {
      "cell_type": "code",
      "execution_count": 7,
      "metadata": {
        "colab": {
          "base_uri": "https://localhost:8080/"
        },
        "id": "XYKTubkPhMRM",
        "outputId": "a3514e1f-6134-414e-be2f-103c4676aaf4"
      },
      "outputs": [
        {
          "name": "stdout",
          "output_type": "stream",
          "text": [
            "--------------\n",
            "Mouse ID 462544 includes 7 sessions\n",
            "Session ID 914306708 includes 1 experiments: [914536934]\n"
          ]
        },
        {
          "name": "stderr",
          "output_type": "stream",
          "text": [
            "behavior_ophys_experiment_914536934.nwb: 100%|██████████| 1.07G/1.07G [00:43<00:00, 24.9MMB/s]   \n"
          ]
        },
        {
          "name": "stdout",
          "output_type": "stream",
          "text": [
            "Experiment 914536934 includes 181 cells.\n"
          ]
        },
        {
          "name": "stderr",
          "output_type": "stream",
          "text": [
            "100%|██████████| 181/181 [02:45<00:00,  1.10it/s]\n"
          ]
        },
        {
          "name": "stdout",
          "output_type": "stream",
          "text": [
            "Session ID 914797752 includes 1 experiments: [915150256]\n"
          ]
        },
        {
          "name": "stderr",
          "output_type": "stream",
          "text": [
            "behavior_ophys_experiment_915150256.nwb: 100%|██████████| 1.11G/1.11G [00:50<00:00, 22.1MMB/s]   \n"
          ]
        },
        {
          "name": "stdout",
          "output_type": "stream",
          "text": [
            "Experiment 915150256 includes 194 cells.\n"
          ]
        },
        {
          "name": "stderr",
          "output_type": "stream",
          "text": [
            "100%|██████████| 194/194 [03:00<00:00,  1.07it/s]\n"
          ]
        },
        {
          "name": "stdout",
          "output_type": "stream",
          "text": [
            "Session ID 915587736 includes 1 experiments: [916093599]\n"
          ]
        },
        {
          "name": "stderr",
          "output_type": "stream",
          "text": [
            "behavior_ophys_experiment_916093599.nwb: 100%|██████████| 1.06G/1.06G [00:41<00:00, 25.4MMB/s]   \n"
          ]
        },
        {
          "name": "stdout",
          "output_type": "stream",
          "text": [
            "Experiment 916093599 includes 172 cells.\n"
          ]
        },
        {
          "name": "stderr",
          "output_type": "stream",
          "text": [
            "100%|██████████| 172/172 [02:38<00:00,  1.08it/s]\n"
          ]
        },
        {
          "name": "stdout",
          "output_type": "stream",
          "text": [
            "Session ID 922743776 includes 1 experiments: [923100548]\n"
          ]
        },
        {
          "name": "stderr",
          "output_type": "stream",
          "text": [
            "behavior_ophys_experiment_923100548.nwb: 100%|██████████| 1.07G/1.07G [00:42<00:00, 25.2MMB/s]   \n"
          ]
        },
        {
          "name": "stdout",
          "output_type": "stream",
          "text": [
            "Experiment 923100548 includes 181 cells.\n"
          ]
        },
        {
          "name": "stderr",
          "output_type": "stream",
          "text": [
            "100%|██████████| 181/181 [02:49<00:00,  1.07it/s]\n"
          ]
        },
        {
          "name": "stdout",
          "output_type": "stream",
          "text": [
            "--------------\n",
            "Mouse ID 464204 includes 6 sessions\n",
            "Session ID 914163299 includes 1 experiments: [915136302]\n"
          ]
        },
        {
          "name": "stderr",
          "output_type": "stream",
          "text": [
            "behavior_ophys_experiment_915136302.nwb: 100%|██████████| 1.13G/1.13G [00:44<00:00, 25.2MMB/s]   \n"
          ]
        },
        {
          "name": "stdout",
          "output_type": "stream",
          "text": [
            "Experiment 915136302 includes 184 cells.\n"
          ]
        },
        {
          "name": "stderr",
          "output_type": "stream",
          "text": [
            "100%|██████████| 184/184 [02:41<00:00,  1.14it/s]\n"
          ]
        },
        {
          "name": "stdout",
          "output_type": "stream",
          "text": [
            "Session ID 918116930 includes 1 experiments: [918566488]\n"
          ]
        },
        {
          "name": "stderr",
          "output_type": "stream",
          "text": [
            "behavior_ophys_experiment_918566488.nwb: 100%|██████████| 872M/872M [00:34<00:00, 25.5MMB/s]    \n"
          ]
        },
        {
          "name": "stdout",
          "output_type": "stream",
          "text": [
            "Experiment 918566488 includes 152 cells.\n"
          ]
        },
        {
          "name": "stderr",
          "output_type": "stream",
          "text": [
            "100%|██████████| 152/152 [02:20<00:00,  1.08it/s]\n"
          ]
        },
        {
          "name": "stdout",
          "output_type": "stream",
          "text": [
            "Session ID 918718550 includes 1 experiments: [919325924]\n"
          ]
        },
        {
          "name": "stderr",
          "output_type": "stream",
          "text": [
            "behavior_ophys_experiment_919325924.nwb: 100%|██████████| 1.02G/1.02G [01:30<00:00, 11.3MMB/s]   \n"
          ]
        },
        {
          "name": "stdout",
          "output_type": "stream",
          "text": [
            "Experiment 919325924 includes 190 cells.\n"
          ]
        },
        {
          "name": "stderr",
          "output_type": "stream",
          "text": [
            "100%|██████████| 190/190 [02:57<00:00,  1.07it/s]\n"
          ]
        },
        {
          "name": "stdout",
          "output_type": "stream",
          "text": [
            "Session ID 928146339 includes 1 experiments: [929136322]\n"
          ]
        },
        {
          "name": "stderr",
          "output_type": "stream",
          "text": [
            "behavior_ophys_experiment_929136322.nwb: 100%|██████████| 1.01G/1.01G [00:39<00:00, 25.3MMB/s]   \n"
          ]
        },
        {
          "name": "stdout",
          "output_type": "stream",
          "text": [
            "Experiment 929136322 includes 190 cells.\n"
          ]
        },
        {
          "name": "stderr",
          "output_type": "stream",
          "text": [
            "100%|██████████| 190/190 [02:59<00:00,  1.06it/s]\n"
          ]
        },
        {
          "name": "stdout",
          "output_type": "stream",
          "text": [
            "Session ID 929255931 includes 1 experiments: [929591721]\n"
          ]
        },
        {
          "name": "stderr",
          "output_type": "stream",
          "text": [
            "behavior_ophys_experiment_929591721.nwb: 100%|██████████| 947M/947M [00:39<00:00, 24.0MMB/s]    \n"
          ]
        },
        {
          "name": "stdout",
          "output_type": "stream",
          "text": [
            "Experiment 929591721 includes 153 cells.\n"
          ]
        },
        {
          "name": "stderr",
          "output_type": "stream",
          "text": [
            "100%|██████████| 153/153 [02:26<00:00,  1.05it/s]\n"
          ]
        },
        {
          "name": "stdout",
          "output_type": "stream",
          "text": [
            "Session ID 929688369 includes 1 experiments: [930785836]\n"
          ]
        },
        {
          "name": "stderr",
          "output_type": "stream",
          "text": [
            "behavior_ophys_experiment_930785836.nwb: 100%|██████████| 877M/877M [00:35<00:00, 24.8MMB/s]    \n"
          ]
        },
        {
          "name": "stdout",
          "output_type": "stream",
          "text": [
            "Experiment 930785836 includes 141 cells.\n"
          ]
        },
        {
          "name": "stderr",
          "output_type": "stream",
          "text": [
            "100%|██████████| 141/141 [02:15<00:00,  1.04it/s]\n"
          ]
        }
      ],
      "source": [
        "# Loop over sessions for this mouse\n",
        "# note that there may be different subsets of cells in different sessions\n",
        "# some sessions will have multiple experiments (imaging planes), some may only have one\n",
        "#all_data = []\n",
        "#for mouse_id in target_mouse_ids[:3]:\n",
        "save_session = True\n",
        "for mouse_id in target_mouse_ids[2:4]:\n",
        "  print('--------------')\n",
        "  ophys_session_ids = session_table.query('mouse_id == @mouse_id').index\n",
        "  print(f'Mouse ID {mouse_id} includes {len(ophys_session_ids)} sessions')\n",
        "  mouse_data = []\n",
        "  for ophys_session_id in ophys_session_ids:\n",
        "    if save_session:\n",
        "      if f'{target_cre_lines[0][:3]}_mouse{mouse_id}_sess{ophys_session_id}.pkl' in os.listdir(save_data_directory):\n",
        "        continue\n",
        "      else:\n",
        "        mouse_data = []\n",
        "    # Get session metadata\n",
        "    session_metadata = session_table.loc[ophys_session_id]\n",
        "    # Download experiments for each session\n",
        "    experiments = {} # clear experiments dictionary\n",
        "    ophys_experiment_ids = session_metadata['ophys_experiment_id']\n",
        "    print(f'Session ID {ophys_session_id} includes {len(ophys_experiment_ids)} experiments: {np.array(ophys_experiment_ids)}')\n",
        "    for ophys_experiment_id in ophys_experiment_ids:\n",
        "      experiments[ophys_experiment_id] = cache.get_behavior_ophys_experiment(ophys_experiment_id)\n",
        "    # stimulus table is shared for all experiments in a session\n",
        "    stimulus_table = experiments[ophys_experiment_ids[0]].stimulus_presentations.drop(columns = ['image_set'])  # 'image_set' is unnecessary\n",
        "    # Download neural data for each experiment\n",
        "    neural_data = []\n",
        "    for ophys_experiment_id in experiments.keys():\n",
        "      this_experiment = experiments[ophys_experiment_id]\n",
        "      this_experiment_neural_data = ophys.build_tidy_cell_df(this_experiment)\n",
        "      # add some columns with metadata for the experiment\n",
        "      metadata_keys = [\n",
        "          'ophys_experiment_id',\n",
        "          'ophys_session_id',\n",
        "          'targeted_structure',\n",
        "          'imaging_depth',\n",
        "          'equipment_name',\n",
        "          'cre_line',\n",
        "          'mouse_id',\n",
        "          'sex',\n",
        "      ]\n",
        "      for metadata_key in metadata_keys:\n",
        "        this_experiment_neural_data[metadata_key] = this_experiment.metadata[metadata_key]\n",
        "\n",
        "      # append the data for this experiment to a list\n",
        "      neural_data.append(this_experiment_neural_data)\n",
        "      print(f'Experiment {ophys_experiment_id} includes {len(this_experiment_neural_data[\"cell_specimen_id\"].unique())} cells.')\n",
        "      #: {np.array(this_experiment_neural_data[\"cell_specimen_id\"].unique())}')\n",
        "\n",
        "    # concatate the list of dataframes into a single dataframe\n",
        "    neural_data = pd.concat(neural_data)\n",
        "\n",
        "    full_etr_l = []\n",
        "    # Get the experiment-long timeseries for each cell\n",
        "    for cell_specimen_id in tqdm(neural_data['cell_specimen_id'].unique()):\n",
        "      # calculate the event triggered response for this cell to every stimulus\n",
        "      full_etr_this_cell = mindscope_utilities.event_triggered_response(\n",
        "          data=neural_data.query('cell_specimen_id == @cell_specimen_id'),\n",
        "          t='timestamps',\n",
        "          y='dff', #'dff', 'events', 'filtered_events'\n",
        "          event_times=stimulus_table['start_time'],\n",
        "          t_before=0.5,\n",
        "          t_after=0.75,\n",
        "          output_sampling_rate=30, # Hz (so 30 = every 33 ms)\n",
        "      )\n",
        "      # add a column identifying the cell_specimen_id\n",
        "      full_etr_this_cell['cell_specimen_id'] = cell_specimen_id\n",
        "      # append to our list\n",
        "      full_etr_l.append(full_etr_this_cell)\n",
        "\n",
        "    # concatenate our list of dataframes into a single dataframe\n",
        "    full_etr = pd.concat(full_etr_l)\n",
        "\n",
        "    # cast these numeric columns to int and float, respectively\n",
        "    full_etr['event_number'] = full_etr['event_number'].astype(int)\n",
        "    full_etr['event_time'] = full_etr['event_number'].astype(float)\n",
        "\n",
        "    # Compute the average firing rate\n",
        "    # Default is the average from 0 to 500 ms\n",
        "    # We will also compute a baseline-corrected version 'dff_bc'\n",
        "    average_0_to_500 = full_etr.query('time >= 0 and time <= .5').groupby(['cell_specimen_id', 'stimulus_presentations_id'])[['dff']].mean().reset_index()\n",
        "    average_n133_to_n33 = full_etr.query('time > -.15 and time < 0').groupby(['cell_specimen_id', 'stimulus_presentations_id'])[['dff']].mean().reset_index()\n",
        "    dff_bc = average_0_to_500['dff']-average_n133_to_n33['dff']\n",
        "\n",
        "    average_responses = average_0_to_500.merge(\n",
        "      stimulus_table,\n",
        "      on='stimulus_presentations_id',\n",
        "      how='left'\n",
        "    )\n",
        "    average_responses['dff_stim500'] = average_0_to_500['dff']\n",
        "    average_responses['dff_bc'] = dff_bc\n",
        "    average_responses['trace'] = full_etr.groupby(['cell_specimen_id','stimulus_presentations_id'])['dff'].apply(list).values\n",
        "    average_responses['trace_timestamps'] = full_etr.groupby(['cell_specimen_id','stimulus_presentations_id'])['time'].apply(list).values\n",
        "    additional_metadata = neural_data.groupby('cell_specimen_id')[metadata_keys].max().reset_index()\n",
        "    average_responses = average_responses.merge(additional_metadata,on='cell_specimen_id',how='left')\n",
        "    mouse_data.append(average_responses)\n",
        "\n",
        "    if save_session:\n",
        "      mouse_data = pd.concat(mouse_data)\n",
        "      # Add some additional metadata\n",
        "      lol = session_table.query('mouse_id == @mouse_id')\n",
        "      lol = lol.groupby(['ophys_session_id']).max().reset_index()\n",
        "      lol['exposure_level'] = lol['session_number']>3\n",
        "      lol = lol.replace({'exposure_level': {False:'familiar',True:'novel'}})\n",
        "      mouse_data = mouse_data.merge(\n",
        "          lol[['mouse_id','ophys_session_id','session_number','exposure_level']],\n",
        "          on=['mouse_id','ophys_session_id'],\n",
        "          how='left'\n",
        "      )\n",
        "\n",
        "      # remove some unnecessary data\n",
        "      unneeded = ['start_time','stop_time','duration','image_index','start_frame','end_frame','equipment_name','trace_timestamps']\n",
        "      mouse_data = mouse_data.drop(unneeded,axis=1)\n",
        "\n",
        "      # change data types for memory efficiency\n",
        "      change_type_dict = {'cell_specimen_id': 'category',\n",
        "                          'stimulus_presentations_id':'int16',\n",
        "                          'dff': 'float16',\n",
        "                          'dff_stim500': 'float16',\n",
        "                          'image_name': 'category',\n",
        "                          'dff_bc': 'float16',\n",
        "                          'ophys_experiment_id': 'category',\n",
        "                          'ophys_session_id': 'category',\n",
        "                          'targeted_structure': 'category',\n",
        "                          'imaging_depth': 'int16',\n",
        "                          'cre_line': 'category',\n",
        "                          'mouse_id': 'category',\n",
        "                          'sex': 'category',\n",
        "                          'session_number': 'int8',\n",
        "                          'exposure_level': 'category'\n",
        "                          }\n",
        "      mouse_data = mouse_data.astype(change_type_dict)\n",
        "\n",
        "      mouse_data.to_pickle(f'{save_data_directory}{target_cre_lines[0][:3]}_mouse{mouse_id}_sess{ophys_session_id}.pkl')\n",
        "\n",
        "  # # Finished a mouse!\n",
        "  # mouse_data = pd.concat(mouse_data)\n",
        "\n",
        "  # # Add some additional metadata\n",
        "  # lol = session_table.query('mouse_id == @mouse_id')\n",
        "  # lol = lol.groupby(['ophys_session_id']).max().reset_index()\n",
        "  # lol['exposure_level'] = lol['session_number']>3\n",
        "  # lol = lol.replace({'exposure_level': {False:'familiar',True:'novel'}})\n",
        "  # mouse_data = mouse_data.merge(\n",
        "  #     lol[['mouse_id','ophys_session_id','session_number','exposure_level']],\n",
        "  #     on=['mouse_id','ophys_session_id'],\n",
        "  #     how='left'\n",
        "  # )\n",
        "\n",
        "  # # remove some unnecessary data\n",
        "  # unneeded = ['start_time','stop_time','duration','image_index','start_frame','end_frame','equipment_name','trace_timestamps']\n",
        "  # mouse_data = mouse_data.drop(unneeded,axis=1)\n",
        "\n",
        "  # # change data types for memory efficiency\n",
        "  # change_type_dict = {'cell_specimen_id': 'category',\n",
        "  #                     'stimulus_presentations_id':'int16',\n",
        "  #                     'dff': 'float16',\n",
        "  #                     'dff_stim500': 'float16',\n",
        "  #                     'image_name': 'category',\n",
        "  #                     'dff_bc': 'float16',\n",
        "  #                     'ophys_experiment_id': 'category',\n",
        "  #                     'ophys_session_id': 'category',\n",
        "  #                     'targeted_structure': 'category',\n",
        "  #                     'imaging_depth': 'int16',\n",
        "  #                     'cre_line': 'category',\n",
        "  #                     'mouse_id': 'category',\n",
        "  #                     'sex': 'category',\n",
        "  #                     'session_number': 'int8',\n",
        "  #                     'exposure_level': 'category'\n",
        "  #                     }\n",
        "  # mouse_data = mouse_data.astype(change_type_dict)\n",
        "\n",
        "  # mouse_data.to_pickle(f'{save_data_directory}{target_cre_lines[0][:3]}_mouse{mouse_id}.pkl')\n",
        "  # #all_data.append(mouse_data)\n",
        "\n",
        "# Finished all mice!\n",
        "#all_data = pd.concat(all_data)"
      ]
    },
    {
      "cell_type": "code",
      "execution_count": 8,
      "metadata": {},
      "outputs": [
        {
          "data": {
            "text/plain": [
              "'1.4.3'"
            ]
          },
          "execution_count": 8,
          "metadata": {},
          "output_type": "execute_result"
        }
      ],
      "source": [
        "pd.__version__"
      ]
    },
    {
      "cell_type": "code",
      "execution_count": 10,
      "metadata": {
        "id": "x6NpgbQLvPFP"
      },
      "outputs": [],
      "source": [
        "# To access categorical information\n",
        "#all_data1['image_name'].cat.categories\n",
        "#all_data1['image_name'].cat.codes\n",
        "\n",
        "# The trace timestamps\n",
        "#trace_timestamps = np.linspace(-0.5,0.7333333333333334,38)\n",
        "\n",
        "obj = pd.read_pickle('Sst_mouse470784.pkl')"
      ]
    }
  ],
  "metadata": {
    "colab": {
      "collapsed_sections": [],
      "name": "GetAllPresentationDataAllenVisualBehavior.ipynb",
      "provenance": []
    },
    "kernelspec": {
      "display_name": "Python 3.8.13 ('mindscope_utilities')",
      "language": "python",
      "name": "python3"
    },
    "language_info": {
      "codemirror_mode": {
        "name": "ipython",
        "version": 3
      },
      "file_extension": ".py",
      "mimetype": "text/x-python",
      "name": "python",
      "nbconvert_exporter": "python",
      "pygments_lexer": "ipython3",
      "version": "3.8.13"
    },
    "vscode": {
      "interpreter": {
        "hash": "c2d75289377afe78148052a4afb146342057af0f156c5d68e5a1810c42f31f9e"
      }
    }
  },
  "nbformat": 4,
  "nbformat_minor": 0
}
