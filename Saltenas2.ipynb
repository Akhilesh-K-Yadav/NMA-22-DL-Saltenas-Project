{
  "nbformat": 4,
  "nbformat_minor": 0,
  "metadata": {
    "colab": {
      "name": "Saltenas2.ipynb",
      "provenance": [],
      "collapsed_sections": []
    },
    "kernelspec": {
      "name": "python3",
      "display_name": "Python 3"
    },
    "language_info": {
      "name": "python"
    },
    "accelerator": "GPU",
    "gpuClass": "standard",
    "widgets": {
      "application/vnd.jupyter.widget-state+json": {
        "8059c04ee3db44d6a487a40876b6ec7e": {
          "model_module": "@jupyter-widgets/controls",
          "model_name": "HBoxModel",
          "model_module_version": "1.5.0",
          "state": {
            "_dom_classes": [],
            "_model_module": "@jupyter-widgets/controls",
            "_model_module_version": "1.5.0",
            "_model_name": "HBoxModel",
            "_view_count": null,
            "_view_module": "@jupyter-widgets/controls",
            "_view_module_version": "1.5.0",
            "_view_name": "HBoxView",
            "box_style": "",
            "children": [
              "IPY_MODEL_e3213466f4e94a188d1c0fd4358d7ee3",
              "IPY_MODEL_7d148078dd3740afbece6fd087ea8161",
              "IPY_MODEL_32ca09da60c1496485a3987c5e401209"
            ],
            "layout": "IPY_MODEL_3263d41dab0b450fa9844851cfedb1a6"
          }
        },
        "e3213466f4e94a188d1c0fd4358d7ee3": {
          "model_module": "@jupyter-widgets/controls",
          "model_name": "HTMLModel",
          "model_module_version": "1.5.0",
          "state": {
            "_dom_classes": [],
            "_model_module": "@jupyter-widgets/controls",
            "_model_module_version": "1.5.0",
            "_model_name": "HTMLModel",
            "_view_count": null,
            "_view_module": "@jupyter-widgets/controls",
            "_view_module_version": "1.5.0",
            "_view_name": "HTMLView",
            "description": "",
            "description_tooltip": null,
            "layout": "IPY_MODEL_ec8db887595e4adaa52ce024f523ca87",
            "placeholder": "​",
            "style": "IPY_MODEL_65568a89bfc748c183af855b8ec81584",
            "value": "100%"
          }
        },
        "7d148078dd3740afbece6fd087ea8161": {
          "model_module": "@jupyter-widgets/controls",
          "model_name": "FloatProgressModel",
          "model_module_version": "1.5.0",
          "state": {
            "_dom_classes": [],
            "_model_module": "@jupyter-widgets/controls",
            "_model_module_version": "1.5.0",
            "_model_name": "FloatProgressModel",
            "_view_count": null,
            "_view_module": "@jupyter-widgets/controls",
            "_view_module_version": "1.5.0",
            "_view_name": "ProgressView",
            "bar_style": "success",
            "description": "",
            "description_tooltip": null,
            "layout": "IPY_MODEL_81603499a95b4723a275decebd8c1bd9",
            "max": 2500,
            "min": 0,
            "orientation": "horizontal",
            "style": "IPY_MODEL_684619f62ccf4a9eacb66b57879ef86d",
            "value": 2500
          }
        },
        "32ca09da60c1496485a3987c5e401209": {
          "model_module": "@jupyter-widgets/controls",
          "model_name": "HTMLModel",
          "model_module_version": "1.5.0",
          "state": {
            "_dom_classes": [],
            "_model_module": "@jupyter-widgets/controls",
            "_model_module_version": "1.5.0",
            "_model_name": "HTMLModel",
            "_view_count": null,
            "_view_module": "@jupyter-widgets/controls",
            "_view_module_version": "1.5.0",
            "_view_name": "HTMLView",
            "description": "",
            "description_tooltip": null,
            "layout": "IPY_MODEL_11de5ff4010c4aeeb377d1de686f7484",
            "placeholder": "​",
            "style": "IPY_MODEL_ed5902381b84464895ef1200761924ac",
            "value": " 2500/2500 [00:09&lt;00:00, 234.87it/s]"
          }
        },
        "3263d41dab0b450fa9844851cfedb1a6": {
          "model_module": "@jupyter-widgets/base",
          "model_name": "LayoutModel",
          "model_module_version": "1.2.0",
          "state": {
            "_model_module": "@jupyter-widgets/base",
            "_model_module_version": "1.2.0",
            "_model_name": "LayoutModel",
            "_view_count": null,
            "_view_module": "@jupyter-widgets/base",
            "_view_module_version": "1.2.0",
            "_view_name": "LayoutView",
            "align_content": null,
            "align_items": null,
            "align_self": null,
            "border": null,
            "bottom": null,
            "display": null,
            "flex": null,
            "flex_flow": null,
            "grid_area": null,
            "grid_auto_columns": null,
            "grid_auto_flow": null,
            "grid_auto_rows": null,
            "grid_column": null,
            "grid_gap": null,
            "grid_row": null,
            "grid_template_areas": null,
            "grid_template_columns": null,
            "grid_template_rows": null,
            "height": null,
            "justify_content": null,
            "justify_items": null,
            "left": null,
            "margin": null,
            "max_height": null,
            "max_width": null,
            "min_height": null,
            "min_width": null,
            "object_fit": null,
            "object_position": null,
            "order": null,
            "overflow": null,
            "overflow_x": null,
            "overflow_y": null,
            "padding": null,
            "right": null,
            "top": null,
            "visibility": null,
            "width": null
          }
        },
        "ec8db887595e4adaa52ce024f523ca87": {
          "model_module": "@jupyter-widgets/base",
          "model_name": "LayoutModel",
          "model_module_version": "1.2.0",
          "state": {
            "_model_module": "@jupyter-widgets/base",
            "_model_module_version": "1.2.0",
            "_model_name": "LayoutModel",
            "_view_count": null,
            "_view_module": "@jupyter-widgets/base",
            "_view_module_version": "1.2.0",
            "_view_name": "LayoutView",
            "align_content": null,
            "align_items": null,
            "align_self": null,
            "border": null,
            "bottom": null,
            "display": null,
            "flex": null,
            "flex_flow": null,
            "grid_area": null,
            "grid_auto_columns": null,
            "grid_auto_flow": null,
            "grid_auto_rows": null,
            "grid_column": null,
            "grid_gap": null,
            "grid_row": null,
            "grid_template_areas": null,
            "grid_template_columns": null,
            "grid_template_rows": null,
            "height": null,
            "justify_content": null,
            "justify_items": null,
            "left": null,
            "margin": null,
            "max_height": null,
            "max_width": null,
            "min_height": null,
            "min_width": null,
            "object_fit": null,
            "object_position": null,
            "order": null,
            "overflow": null,
            "overflow_x": null,
            "overflow_y": null,
            "padding": null,
            "right": null,
            "top": null,
            "visibility": null,
            "width": null
          }
        },
        "65568a89bfc748c183af855b8ec81584": {
          "model_module": "@jupyter-widgets/controls",
          "model_name": "DescriptionStyleModel",
          "model_module_version": "1.5.0",
          "state": {
            "_model_module": "@jupyter-widgets/controls",
            "_model_module_version": "1.5.0",
            "_model_name": "DescriptionStyleModel",
            "_view_count": null,
            "_view_module": "@jupyter-widgets/base",
            "_view_module_version": "1.2.0",
            "_view_name": "StyleView",
            "description_width": ""
          }
        },
        "81603499a95b4723a275decebd8c1bd9": {
          "model_module": "@jupyter-widgets/base",
          "model_name": "LayoutModel",
          "model_module_version": "1.2.0",
          "state": {
            "_model_module": "@jupyter-widgets/base",
            "_model_module_version": "1.2.0",
            "_model_name": "LayoutModel",
            "_view_count": null,
            "_view_module": "@jupyter-widgets/base",
            "_view_module_version": "1.2.0",
            "_view_name": "LayoutView",
            "align_content": null,
            "align_items": null,
            "align_self": null,
            "border": null,
            "bottom": null,
            "display": null,
            "flex": null,
            "flex_flow": null,
            "grid_area": null,
            "grid_auto_columns": null,
            "grid_auto_flow": null,
            "grid_auto_rows": null,
            "grid_column": null,
            "grid_gap": null,
            "grid_row": null,
            "grid_template_areas": null,
            "grid_template_columns": null,
            "grid_template_rows": null,
            "height": null,
            "justify_content": null,
            "justify_items": null,
            "left": null,
            "margin": null,
            "max_height": null,
            "max_width": null,
            "min_height": null,
            "min_width": null,
            "object_fit": null,
            "object_position": null,
            "order": null,
            "overflow": null,
            "overflow_x": null,
            "overflow_y": null,
            "padding": null,
            "right": null,
            "top": null,
            "visibility": null,
            "width": null
          }
        },
        "684619f62ccf4a9eacb66b57879ef86d": {
          "model_module": "@jupyter-widgets/controls",
          "model_name": "ProgressStyleModel",
          "model_module_version": "1.5.0",
          "state": {
            "_model_module": "@jupyter-widgets/controls",
            "_model_module_version": "1.5.0",
            "_model_name": "ProgressStyleModel",
            "_view_count": null,
            "_view_module": "@jupyter-widgets/base",
            "_view_module_version": "1.2.0",
            "_view_name": "StyleView",
            "bar_color": null,
            "description_width": ""
          }
        },
        "11de5ff4010c4aeeb377d1de686f7484": {
          "model_module": "@jupyter-widgets/base",
          "model_name": "LayoutModel",
          "model_module_version": "1.2.0",
          "state": {
            "_model_module": "@jupyter-widgets/base",
            "_model_module_version": "1.2.0",
            "_model_name": "LayoutModel",
            "_view_count": null,
            "_view_module": "@jupyter-widgets/base",
            "_view_module_version": "1.2.0",
            "_view_name": "LayoutView",
            "align_content": null,
            "align_items": null,
            "align_self": null,
            "border": null,
            "bottom": null,
            "display": null,
            "flex": null,
            "flex_flow": null,
            "grid_area": null,
            "grid_auto_columns": null,
            "grid_auto_flow": null,
            "grid_auto_rows": null,
            "grid_column": null,
            "grid_gap": null,
            "grid_row": null,
            "grid_template_areas": null,
            "grid_template_columns": null,
            "grid_template_rows": null,
            "height": null,
            "justify_content": null,
            "justify_items": null,
            "left": null,
            "margin": null,
            "max_height": null,
            "max_width": null,
            "min_height": null,
            "min_width": null,
            "object_fit": null,
            "object_position": null,
            "order": null,
            "overflow": null,
            "overflow_x": null,
            "overflow_y": null,
            "padding": null,
            "right": null,
            "top": null,
            "visibility": null,
            "width": null
          }
        },
        "ed5902381b84464895ef1200761924ac": {
          "model_module": "@jupyter-widgets/controls",
          "model_name": "DescriptionStyleModel",
          "model_module_version": "1.5.0",
          "state": {
            "_model_module": "@jupyter-widgets/controls",
            "_model_module_version": "1.5.0",
            "_model_name": "DescriptionStyleModel",
            "_view_count": null,
            "_view_module": "@jupyter-widgets/base",
            "_view_module_version": "1.2.0",
            "_view_name": "StyleView",
            "description_width": ""
          }
        },
        "43b37986a1da4c9a8fd29e371e14a7bd": {
          "model_module": "@jupyter-widgets/controls",
          "model_name": "HBoxModel",
          "model_module_version": "1.5.0",
          "state": {
            "_dom_classes": [],
            "_model_module": "@jupyter-widgets/controls",
            "_model_module_version": "1.5.0",
            "_model_name": "HBoxModel",
            "_view_count": null,
            "_view_module": "@jupyter-widgets/controls",
            "_view_module_version": "1.5.0",
            "_view_name": "HBoxView",
            "box_style": "",
            "children": [
              "IPY_MODEL_e551b1c2af10409db4bc7ab6707f819a",
              "IPY_MODEL_876cc5a9a0974c85b055ef196446fae2",
              "IPY_MODEL_a86bde117e7244bfac9bb2e2cbc4838a"
            ],
            "layout": "IPY_MODEL_43d1008d9c944a718360caba8841e922"
          }
        },
        "e551b1c2af10409db4bc7ab6707f819a": {
          "model_module": "@jupyter-widgets/controls",
          "model_name": "HTMLModel",
          "model_module_version": "1.5.0",
          "state": {
            "_dom_classes": [],
            "_model_module": "@jupyter-widgets/controls",
            "_model_module_version": "1.5.0",
            "_model_name": "HTMLModel",
            "_view_count": null,
            "_view_module": "@jupyter-widgets/controls",
            "_view_module_version": "1.5.0",
            "_view_name": "HTMLView",
            "description": "",
            "description_tooltip": null,
            "layout": "IPY_MODEL_6f680e489fec49d6bd6ddfeaf2a3b606",
            "placeholder": "​",
            "style": "IPY_MODEL_ac94ab2b9f804bceab543853089fb649",
            "value": "100%"
          }
        },
        "876cc5a9a0974c85b055ef196446fae2": {
          "model_module": "@jupyter-widgets/controls",
          "model_name": "FloatProgressModel",
          "model_module_version": "1.5.0",
          "state": {
            "_dom_classes": [],
            "_model_module": "@jupyter-widgets/controls",
            "_model_module_version": "1.5.0",
            "_model_name": "FloatProgressModel",
            "_view_count": null,
            "_view_module": "@jupyter-widgets/controls",
            "_view_module_version": "1.5.0",
            "_view_name": "ProgressView",
            "bar_style": "success",
            "description": "",
            "description_tooltip": null,
            "layout": "IPY_MODEL_26adaf399b2d46b0973c5ad0d877e97b",
            "max": 80,
            "min": 0,
            "orientation": "horizontal",
            "style": "IPY_MODEL_5722220abe1f44f8a52e6365ac4eab8a",
            "value": 80
          }
        },
        "a86bde117e7244bfac9bb2e2cbc4838a": {
          "model_module": "@jupyter-widgets/controls",
          "model_name": "HTMLModel",
          "model_module_version": "1.5.0",
          "state": {
            "_dom_classes": [],
            "_model_module": "@jupyter-widgets/controls",
            "_model_module_version": "1.5.0",
            "_model_name": "HTMLModel",
            "_view_count": null,
            "_view_module": "@jupyter-widgets/controls",
            "_view_module_version": "1.5.0",
            "_view_name": "HTMLView",
            "description": "",
            "description_tooltip": null,
            "layout": "IPY_MODEL_8b1da2cac1ad408c9f5e4a7165844a18",
            "placeholder": "​",
            "style": "IPY_MODEL_b1f8d96f4b1a49f8933c0a5bacf8b891",
            "value": " 80/80 [00:00&lt;00:00, 137.31it/s]"
          }
        },
        "43d1008d9c944a718360caba8841e922": {
          "model_module": "@jupyter-widgets/base",
          "model_name": "LayoutModel",
          "model_module_version": "1.2.0",
          "state": {
            "_model_module": "@jupyter-widgets/base",
            "_model_module_version": "1.2.0",
            "_model_name": "LayoutModel",
            "_view_count": null,
            "_view_module": "@jupyter-widgets/base",
            "_view_module_version": "1.2.0",
            "_view_name": "LayoutView",
            "align_content": null,
            "align_items": null,
            "align_self": null,
            "border": null,
            "bottom": null,
            "display": null,
            "flex": null,
            "flex_flow": null,
            "grid_area": null,
            "grid_auto_columns": null,
            "grid_auto_flow": null,
            "grid_auto_rows": null,
            "grid_column": null,
            "grid_gap": null,
            "grid_row": null,
            "grid_template_areas": null,
            "grid_template_columns": null,
            "grid_template_rows": null,
            "height": null,
            "justify_content": null,
            "justify_items": null,
            "left": null,
            "margin": null,
            "max_height": null,
            "max_width": null,
            "min_height": null,
            "min_width": null,
            "object_fit": null,
            "object_position": null,
            "order": null,
            "overflow": null,
            "overflow_x": null,
            "overflow_y": null,
            "padding": null,
            "right": null,
            "top": null,
            "visibility": null,
            "width": null
          }
        },
        "6f680e489fec49d6bd6ddfeaf2a3b606": {
          "model_module": "@jupyter-widgets/base",
          "model_name": "LayoutModel",
          "model_module_version": "1.2.0",
          "state": {
            "_model_module": "@jupyter-widgets/base",
            "_model_module_version": "1.2.0",
            "_model_name": "LayoutModel",
            "_view_count": null,
            "_view_module": "@jupyter-widgets/base",
            "_view_module_version": "1.2.0",
            "_view_name": "LayoutView",
            "align_content": null,
            "align_items": null,
            "align_self": null,
            "border": null,
            "bottom": null,
            "display": null,
            "flex": null,
            "flex_flow": null,
            "grid_area": null,
            "grid_auto_columns": null,
            "grid_auto_flow": null,
            "grid_auto_rows": null,
            "grid_column": null,
            "grid_gap": null,
            "grid_row": null,
            "grid_template_areas": null,
            "grid_template_columns": null,
            "grid_template_rows": null,
            "height": null,
            "justify_content": null,
            "justify_items": null,
            "left": null,
            "margin": null,
            "max_height": null,
            "max_width": null,
            "min_height": null,
            "min_width": null,
            "object_fit": null,
            "object_position": null,
            "order": null,
            "overflow": null,
            "overflow_x": null,
            "overflow_y": null,
            "padding": null,
            "right": null,
            "top": null,
            "visibility": null,
            "width": null
          }
        },
        "ac94ab2b9f804bceab543853089fb649": {
          "model_module": "@jupyter-widgets/controls",
          "model_name": "DescriptionStyleModel",
          "model_module_version": "1.5.0",
          "state": {
            "_model_module": "@jupyter-widgets/controls",
            "_model_module_version": "1.5.0",
            "_model_name": "DescriptionStyleModel",
            "_view_count": null,
            "_view_module": "@jupyter-widgets/base",
            "_view_module_version": "1.2.0",
            "_view_name": "StyleView",
            "description_width": ""
          }
        },
        "26adaf399b2d46b0973c5ad0d877e97b": {
          "model_module": "@jupyter-widgets/base",
          "model_name": "LayoutModel",
          "model_module_version": "1.2.0",
          "state": {
            "_model_module": "@jupyter-widgets/base",
            "_model_module_version": "1.2.0",
            "_model_name": "LayoutModel",
            "_view_count": null,
            "_view_module": "@jupyter-widgets/base",
            "_view_module_version": "1.2.0",
            "_view_name": "LayoutView",
            "align_content": null,
            "align_items": null,
            "align_self": null,
            "border": null,
            "bottom": null,
            "display": null,
            "flex": null,
            "flex_flow": null,
            "grid_area": null,
            "grid_auto_columns": null,
            "grid_auto_flow": null,
            "grid_auto_rows": null,
            "grid_column": null,
            "grid_gap": null,
            "grid_row": null,
            "grid_template_areas": null,
            "grid_template_columns": null,
            "grid_template_rows": null,
            "height": null,
            "justify_content": null,
            "justify_items": null,
            "left": null,
            "margin": null,
            "max_height": null,
            "max_width": null,
            "min_height": null,
            "min_width": null,
            "object_fit": null,
            "object_position": null,
            "order": null,
            "overflow": null,
            "overflow_x": null,
            "overflow_y": null,
            "padding": null,
            "right": null,
            "top": null,
            "visibility": null,
            "width": null
          }
        },
        "5722220abe1f44f8a52e6365ac4eab8a": {
          "model_module": "@jupyter-widgets/controls",
          "model_name": "ProgressStyleModel",
          "model_module_version": "1.5.0",
          "state": {
            "_model_module": "@jupyter-widgets/controls",
            "_model_module_version": "1.5.0",
            "_model_name": "ProgressStyleModel",
            "_view_count": null,
            "_view_module": "@jupyter-widgets/base",
            "_view_module_version": "1.2.0",
            "_view_name": "StyleView",
            "bar_color": null,
            "description_width": ""
          }
        },
        "8b1da2cac1ad408c9f5e4a7165844a18": {
          "model_module": "@jupyter-widgets/base",
          "model_name": "LayoutModel",
          "model_module_version": "1.2.0",
          "state": {
            "_model_module": "@jupyter-widgets/base",
            "_model_module_version": "1.2.0",
            "_model_name": "LayoutModel",
            "_view_count": null,
            "_view_module": "@jupyter-widgets/base",
            "_view_module_version": "1.2.0",
            "_view_name": "LayoutView",
            "align_content": null,
            "align_items": null,
            "align_self": null,
            "border": null,
            "bottom": null,
            "display": null,
            "flex": null,
            "flex_flow": null,
            "grid_area": null,
            "grid_auto_columns": null,
            "grid_auto_flow": null,
            "grid_auto_rows": null,
            "grid_column": null,
            "grid_gap": null,
            "grid_row": null,
            "grid_template_areas": null,
            "grid_template_columns": null,
            "grid_template_rows": null,
            "height": null,
            "justify_content": null,
            "justify_items": null,
            "left": null,
            "margin": null,
            "max_height": null,
            "max_width": null,
            "min_height": null,
            "min_width": null,
            "object_fit": null,
            "object_position": null,
            "order": null,
            "overflow": null,
            "overflow_x": null,
            "overflow_y": null,
            "padding": null,
            "right": null,
            "top": null,
            "visibility": null,
            "width": null
          }
        },
        "b1f8d96f4b1a49f8933c0a5bacf8b891": {
          "model_module": "@jupyter-widgets/controls",
          "model_name": "DescriptionStyleModel",
          "model_module_version": "1.5.0",
          "state": {
            "_model_module": "@jupyter-widgets/controls",
            "_model_module_version": "1.5.0",
            "_model_name": "DescriptionStyleModel",
            "_view_count": null,
            "_view_module": "@jupyter-widgets/base",
            "_view_module_version": "1.2.0",
            "_view_name": "StyleView",
            "description_width": ""
          }
        }
      }
    }
  },
  "cells": [
    {
      "cell_type": "code",
      "source": [
        "# Imports\n",
        "import os, requests\n",
        "import random\n",
        "import numpy as np\n",
        "import matplotlib.pyplot as plt\n",
        "import pandas as pd\n",
        "import seaborn as sns\n",
        "import scipy as sp\n",
        "import gzip\n",
        "\n",
        "import torch\n",
        "import torch.nn as nn\n",
        "import torch.optim as optim\n",
        "import torch.nn.functional as F\n",
        "from torch.utils.data import DataLoader, TensorDataset\n",
        "\n",
        "from tqdm.auto import tqdm\n",
        "from IPython.display import display\n",
        "\n",
        "from sklearn.svm import SVC\n",
        "from sklearn.manifold import TSNE\n",
        "from sklearn.metrics import confusion_matrix, accuracy_score, ConfusionMatrixDisplay\n",
        "from sklearn.model_selection import train_test_split\n",
        "\n",
        "DEVICE = 'cuda'\n",
        "\n",
        "# Mount Google Drive\n",
        "from google.colab import drive\n",
        "drive.mount('/content/drive')"
      ],
      "metadata": {
        "colab": {
          "base_uri": "https://localhost:8080/"
        },
        "id": "OZ3pSQL_h117",
        "outputId": "00101c35-afc8-4777-a5e1-0fe9e6b26f5d"
      },
      "execution_count": 1,
      "outputs": [
        {
          "output_type": "stream",
          "name": "stdout",
          "text": [
            "Drive already mounted at /content/drive; to attempt to forcibly remount, call drive.mount(\"/content/drive\", force_remount=True).\n"
          ]
        }
      ]
    },
    {
      "cell_type": "code",
      "source": [
        "mice = np.unique(pd.DataFrame(np.array(os.listdir('/content/drive/MyDrive/Mouse_Data/')))[0].apply(lambda x: x[0:15]))\n",
        "print(mice)"
      ],
      "metadata": {
        "colab": {
          "base_uri": "https://localhost:8080/"
        },
        "id": "Csjy40VF6xVy",
        "outputId": "dc3bf56b-37f0-4536-c656-0de708a73023"
      },
      "execution_count": 2,
      "outputs": [
        {
          "output_type": "stream",
          "name": "stdout",
          "text": [
            "['Slc_mouse461946' 'Slc_mouse462468' 'Slc_mouse462544' 'Slc_mouse464204'\n",
            " 'Slc_mouse464207' 'Sst_mouse470784' 'Sst_mouse476970' 'Sst_mouse477202'\n",
            " 'Sst_mouse480753' 'Sst_mouse485688' 'Sst_mouse489056' 'Sst_mouse498972'\n",
            " 'Vip_mouse467951' 'Vip_mouse467953' 'Vip_mouse467954' 'Vip_mouse489066'\n",
            " 'Vip_mouse492395']\n"
          ]
        }
      ]
    },
    {
      "cell_type": "code",
      "execution_count": 3,
      "metadata": {
        "id": "I9F8F1uNh0Kn"
      },
      "outputs": [],
      "source": [
        "# Function to load in data from mounted drive on Colab\n",
        "def load_gzip_arrays(fn, dir = '/content/drive/MyDrive/Mouse_Data/'):\n",
        "    f = gzip.GzipFile(dir+fn+'_label.npy.gz', \"r\")\n",
        "    label_data = np.load(f,allow_pickle=True)\n",
        "    label_data = pd.DataFrame(label_data,columns=['image_name','is_change','omitted','session_number'])\n",
        "\n",
        "    f = gzip.GzipFile(dir+fn+'_dffbc.npy.gz', \"r\")\n",
        "    dff_bc = np.load(f)\n",
        "\n",
        "    f = gzip.GzipFile(dir+fn+'_dffstim.npy.gz', \"r\")\n",
        "    dff_stim = np.load(f)\n",
        "\n",
        "    f = gzip.GzipFile(dir+fn+'_dffts.npy.gz', \"r\")\n",
        "    dff_ts = np.load(f)\n",
        "\n",
        "    return label_data, dff_bc, dff_stim, dff_ts\n",
        "\n",
        "score_test = {}\n",
        "score_train = {}\n",
        "score_out = {}\n",
        "\n",
        "area = 'Sst'\n",
        "vip_mouse_id = [467951, 467953, 467954, 489066, 492395]\n",
        "sst_mouse_id = [470784, 476970, 477202, 480753, 485688, 489056, 498972]\n",
        "slc_mouse_id = [461946, 462468, 462544, 464204, 464207]\n",
        "\n",
        "mouse_id = sst_mouse_id[4]\n",
        "\n",
        "if area=='Slc' and mouse_id!=461946:\n",
        "    fns = os.listdir('/content/drive/MyDrive/Mouse_Data/')\n",
        "    sessidx = np.array([f'mouse{mouse_id}_sess' in f for f in fns])\n",
        "    sessfns = np.array(fns)[sessidx]\n",
        "    def myfun(str):\n",
        "      return str.split(sep='_')[2][4:]\n",
        "    vecfun = np.vectorize(myfun)\n",
        "    sessnums = np.unique(vecfun(sessfns))\n",
        "    label_data, dff_bc, dff_stim, dff_ts = [], [], [], []\n",
        "    # Concatenate the sessions together\n",
        "    for sn in sessnums:\n",
        "        a, b, c, d = load_gzip_arrays(f'{area}_mouse{mouse_id}_sess{sn}')\n",
        "        label_data.append(a)\n",
        "        dff_bc.append(b)\n",
        "        dff_stim.append(c)\n",
        "        dff_ts.append(c)\n",
        "    label_data = pd.concat(label_data)\n",
        "    dff_bc = np.stack(dff_bc,axis=0)\n",
        "    dff_stim = np.stack(dff_stim,axis=0)\n",
        "    dff_ts = np.stack(dff_ts,axis=0)\n",
        "\n",
        "else: # Vip and Sst (and that one Slc mouse)\n",
        "    fn = f'{area}_mouse{mouse_id}'\n",
        "    label_data, dff_bc, dff_stim, dff_ts = load_gzip_arrays(fn)"
      ]
    },
    {
      "cell_type": "code",
      "source": [
        "# Possible subsetting groups\n",
        "not_omitted = np.logical_not(label_data['omitted'])\n",
        "familiar = label_data['session_number']<=3\n",
        "novel = label_data['session_number']>3\n",
        "passive = np.logical_or(label_data['session_number']==2, label_data['session_number']==5)\n",
        "active = np.logical_not(passive)\n",
        "is_change = label_data['is_change']\n",
        "not_change = np.logical_not(is_change)\n",
        "\n",
        "# Choose a subset\n",
        "subset = np.where(np.logical_and.reduce([not_change, not_omitted, familiar]))\n",
        "\n",
        "subset2 = np.where(np.logical_and.reduce([is_change, not_omitted, familiar]))\n",
        "\n",
        "len(subset[0])"
      ],
      "metadata": {
        "id": "Y8MukgLpi4ZN",
        "colab": {
          "base_uri": "https://localhost:8080/"
        },
        "outputId": "7459ed3f-68cf-4c5a-be7f-4aa0f5a633e0"
      },
      "execution_count": 110,
      "outputs": [
        {
          "output_type": "execute_result",
          "data": {
            "text/plain": [
              "706"
            ]
          },
          "metadata": {},
          "execution_count": 110
        }
      ]
    },
    {
      "cell_type": "code",
      "source": [
        "class NetDropout(nn.Module):\n",
        "  \"\"\"\n",
        "  Network Class - 2D with the following structure:\n",
        "  nn.Linear(1, 300) + leaky_relu(self.dropout1(self.fc1(x))) # First fully connected layer with 0.4 dropout\n",
        "  nn.Linear(300, 500) + leaky_relu(self.dropout2(self.fc2(x))) # Second fully connected layer with 0.2 dropout\n",
        "  nn.Linear(500, 1) # Final fully connected layer\n",
        "  \"\"\"\n",
        "\n",
        "  def __init__(self,input_feature_num):\n",
        "    super(NetDropout, self).__init__()\n",
        "    self.fc1 = nn.Linear(input_feature_num, 100)\n",
        "    self.fc2 = nn.Linear(100, 100)\n",
        "    self.fc3 = nn.Linear(100, 8)\n",
        "    #self.dropout1 = nn.Dropout(0.5)\n",
        "    #self.dropout2 = nn.Dropout(0.2)\n",
        "\n",
        "  def forward(self, x):\n",
        "    x = F.leaky_relu(self.fc1(x))\n",
        "    x = F.leaky_relu(self.fc2(x))\n",
        "    #x = F.leaky_relu(self.dropout1(self.fc3(x)))\n",
        "    #x = F.leaky_relu(self.dropout1(self.fc4(x)))\n",
        "    output = self.fc3(x)\n",
        "    return output"
      ],
      "metadata": {
        "id": "2R73ZDpinr-U"
      },
      "execution_count": 114,
      "outputs": []
    },
    {
      "cell_type": "code",
      "source": [
        "# Prepare input data (mean firing rates: dff_bc or dff_stim)\n",
        "X = dff_bc[subset,:].squeeze()\n",
        "cells_with_data_in_subset = np.where(X.sum(axis=0)!=0)\n",
        "X = X[:,cells_with_data_in_subset].squeeze()\n",
        "X = np.nan_to_num(X)\n",
        "y = label_data.loc[subset,'image_name']\n",
        "_, y = np.unique(y, return_inverse=True)"
      ],
      "metadata": {
        "id": "qM4rfdcxouF3"
      },
      "execution_count": 111,
      "outputs": []
    },
    {
      "cell_type": "code",
      "source": [
        "# IS CHANGE (subset2)\n",
        "X2 = dff_bc[subset2,:].squeeze()\n",
        "#cells_with_data_in_subset = np.where(X.sum(axis=0)!=0)\n",
        "X2 = X2[:,cells_with_data_in_subset].squeeze()\n",
        "X2 = np.nan_to_num(X2)\n",
        "y2 = label_data.loc[subset2,'image_name']\n",
        "_, y2 = np.unique(y2, return_inverse=True)\n",
        "\n",
        "X2 = torch.Tensor(X2).to(DEVICE)\n",
        "y2 = torch.Tensor(y2).to(torch.int64).to(DEVICE)"
      ],
      "metadata": {
        "id": "MnVxJscqQVnD"
      },
      "execution_count": 112,
      "outputs": []
    },
    {
      "cell_type": "code",
      "source": [
        "X_train, X_test, y_train, y_test = train_test_split(X, y, test_size=.1, stratify=y)\n",
        "# Initialize\n",
        "net = NetDropout(X_train.shape[1]).to(DEVICE)\n",
        "optimizer = optim.Adam(net.parameters(), weight_decay=1e-4, lr=1e-2)\n",
        "criterion = nn.CrossEntropyLoss()\n",
        "X_train = torch.Tensor(X_train).to(DEVICE)\n",
        "#X_val = torch.Tensor(X_val).to(DEVICE)\n",
        "X_test = torch.Tensor(X_test).to(DEVICE)\n",
        "y_train = torch.Tensor(y_train).to(torch.int64).to(DEVICE)\n",
        "#y_val = torch.Tensor(y_val).to(torch.int64).to(DEVICE)\n",
        "y_test = torch.Tensor(y_test).to(torch.int64).to(DEVICE)"
      ],
      "metadata": {
        "id": "R6a4LJjKokRM"
      },
      "execution_count": 115,
      "outputs": []
    },
    {
      "cell_type": "code",
      "source": [
        "# Train\n",
        "N_epochs = 2500\n",
        "training_losses = np.empty(N_epochs)\n",
        "validation_losses = np.empty(N_epochs)\n",
        "out_losses = np.empty(N_epochs)\n",
        "training_accs = np.empty(N_epochs)\n",
        "validation_accs = np.empty(N_epochs)\n",
        "out_accs = np.empty(N_epochs)\n",
        "net.train()\n",
        "for i in tqdm(range(N_epochs)):\n",
        "  optimizer.zero_grad()\n",
        "  yhat_val = net(X_test).to(DEVICE)\n",
        "  loss_val = criterion(yhat_val, y_test)\n",
        "  yhat_out = net(X2).to(DEVICE)\n",
        "  loss_out = criterion(yhat_out, y2)\n",
        "  yhat_train = net(X_train).to(DEVICE)\n",
        "  loss = criterion(yhat_train, y_train)\n",
        "  loss.backward()\n",
        "  optimizer.step()\n",
        "  training_losses[i] = loss.item()\n",
        "  validation_losses[i] = loss_val.item()\n",
        "  out_losses[i] = loss_out.item()\n",
        "\n",
        "  _, yhat_train_max = torch.max(yhat_train, 1)\n",
        "  training_accs[i] = (yhat_train_max == y_train).float().sum()/len(yhat_train_max)\n",
        "\n",
        "  _, yhat_val_max = torch.max(yhat_val, 1)\n",
        "  validation_accs[i] = (yhat_val_max == y_test).float().sum()/len(yhat_val_max)\n",
        "\n",
        "  _, yhat_out_max = torch.max(yhat_out, 1)\n",
        "  out_accs[i] = (yhat_out_max == y2).float().sum()/len(yhat_out_max)\n",
        "\n",
        "  # _, yhat_train = torch.max(yhat_train, 1)\n",
        "  # score_train[mouse_id] = accuracy_score(y_train.to('cpu'), yhat_train)"
      ],
      "metadata": {
        "id": "oFQwboTdyY7f",
        "colab": {
          "base_uri": "https://localhost:8080/",
          "height": 49,
          "referenced_widgets": [
            "8059c04ee3db44d6a487a40876b6ec7e",
            "e3213466f4e94a188d1c0fd4358d7ee3",
            "7d148078dd3740afbece6fd087ea8161",
            "32ca09da60c1496485a3987c5e401209",
            "3263d41dab0b450fa9844851cfedb1a6",
            "ec8db887595e4adaa52ce024f523ca87",
            "65568a89bfc748c183af855b8ec81584",
            "81603499a95b4723a275decebd8c1bd9",
            "684619f62ccf4a9eacb66b57879ef86d",
            "11de5ff4010c4aeeb377d1de686f7484",
            "ed5902381b84464895ef1200761924ac"
          ]
        },
        "outputId": "4845da53-6684-4a49-ef6f-daf5e5c5696b"
      },
      "execution_count": 116,
      "outputs": [
        {
          "output_type": "display_data",
          "data": {
            "text/plain": [
              "  0%|          | 0/2500 [00:00<?, ?it/s]"
            ],
            "application/vnd.jupyter.widget-view+json": {
              "version_major": 2,
              "version_minor": 0,
              "model_id": "8059c04ee3db44d6a487a40876b6ec7e"
            }
          },
          "metadata": {}
        }
      ]
    },
    {
      "cell_type": "code",
      "source": [
        "# Evaluate\n",
        "net.eval()\n",
        "\n",
        "plt.figure()\n",
        "plt.title(fn)\n",
        "plt.ylabel('Training Loss')\n",
        "plt.xlabel('Epoch')\n",
        "# lossdf = pd.DataFrame({'training':training_losses,\n",
        "#               'validation':validation_losses,\n",
        "#               'is_change':out_losses})\n",
        "plt.plot(training_losses,label='train')\n",
        "plt.plot(validation_losses,label='validate')\n",
        "plt.plot(out_losses,label='is_change')\n",
        "plt.legend()\n",
        "\n",
        "plt.figure()\n",
        "plt.title(fn)\n",
        "plt.ylabel('Training Accuracy')\n",
        "plt.xlabel('Epoch')\n",
        "# lossdf = pd.DataFrame({'training':training_losses,\n",
        "#               'validation':validation_losses,\n",
        "#               'is_change':out_losses})\n",
        "plt.plot(training_accs,label='train')\n",
        "plt.plot(validation_accs,label='validate')\n",
        "plt.plot(out_accs,label='is_change')\n",
        "plt.legend()\n",
        "\n",
        "yhat_train = net(X_train).to('cpu')\n",
        "_, yhat_train = torch.max(yhat_train, 1)\n",
        "score_train[mouse_id] = accuracy_score(y_train.to('cpu'), yhat_train)\n",
        "print(f'Training score: {score_train[mouse_id]}')\n",
        "\n",
        "yhat_test = net(X_test).to('cpu')\n",
        "_, yhat_test = torch.max(yhat_test, 1)\n",
        "score_test[mouse_id] = accuracy_score(y_test.to('cpu'), yhat_test)\n",
        "print(f'Test score: {score_test[mouse_id]}')\n",
        "\n",
        "yhat_out = net(X2).to('cpu')\n",
        "_, yhat_out = torch.max(yhat_out, 1)\n",
        "score_out[mouse_id] = accuracy_score(y2.to('cpu'), yhat_out)\n",
        "print(f'Out score: {score_out[mouse_id]}')"
      ],
      "metadata": {
        "id": "w5Rez2o6ySbE",
        "colab": {
          "base_uri": "https://localhost:8080/",
          "height": 627
        },
        "outputId": "9523a1d9-906e-49da-92ad-8e5b57ff2718"
      },
      "execution_count": 117,
      "outputs": [
        {
          "output_type": "stream",
          "name": "stdout",
          "text": [
            "Training score: 1.0\n",
            "Test score: 0.39436619718309857\n",
            "Out score: 0.3504286472953494\n"
          ]
        },
        {
          "output_type": "display_data",
          "data": {
            "text/plain": [
              "<Figure size 432x288 with 1 Axes>"
            ],
            "image/png": "[encoded data removed]"
          },
          "metadata": {
            "needs_background": "light"
          }
        },
        {
          "output_type": "display_data",
          "data": {
            "text/plain": [
              "<Figure size 432x288 with 1 Axes>"
            ],
            "image/png": "[encoded data removed]"
          },
          "metadata": {
            "needs_background": "light"
          }
        }
      ]
    },
    {
      "cell_type": "code",
      "source": [
        "class ConvNetDropout(nn.Module):\n",
        "  \"\"\"\n",
        "  Network Class - 2D with the following structure:\n",
        "  nn.Linear(1, 300) + leaky_relu(self.dropout1(self.fc1(x))) # First fully connected layer with 0.4 dropout\n",
        "  nn.Linear(300, 500) + leaky_relu(self.dropout2(self.fc2(x))) # Second fully connected layer with 0.2 dropout\n",
        "  nn.Linear(500, 1) # Final fully connected layer\n",
        "  \"\"\"\n",
        "\n",
        "  def __init__(self,input_feature_num):\n",
        "    super(ConvNetDropout, self).__init__()\n",
        "    filters_num = 1\n",
        "    self.conv = nn.Conv1d(input_feature_num,filters_num*input_feature_num,kernel_size=5,padding=2,stride=1)\n",
        "    self.pool = nn.AdaptiveAvgPool1d(1)\n",
        "    self.fc1 = nn.Linear(filters_num*input_feature_num, 100)\n",
        "    self.fc2 = nn.Linear(100, 100)\n",
        "    self.fc3 = nn.Linear(100, 8)\n",
        "    #self.dropout1 = nn.Dropout(0.5)\n",
        "    #self.dropout2 = nn.Dropout(0.2)\n",
        "\n",
        "  def forward(self, x):\n",
        "    x0 = self.conv(x)\n",
        "    #x1 = torch.squeeze(self.pool(x0))\n",
        "    x1 = torch.amax(x0,2)\n",
        "    #print(x1.shape)\n",
        "    x2 = F.leaky_relu(self.fc1(x1))\n",
        "    x3 = F.leaky_relu(self.fc2(x2))\n",
        "    #x = F.leaky_relu(self.dropout1(self.fc3(x)))\n",
        "    #x = F.leaky_relu(self.dropout1(self.fc4(x)))\n",
        "    output = self.fc3(x3)\n",
        "    return output"
      ],
      "metadata": {
        "id": "51CpeC56Vvf3"
      },
      "execution_count": 118,
      "outputs": []
    },
    {
      "cell_type": "code",
      "source": [
        "# Prepare input data (mean firing rates: dff_bc or dff_stim)\n",
        "X = dff_ts[subset,:,:].squeeze()\n",
        "cells_with_data_in_subset = np.where(X.sum(axis=0).sum(axis=1)!=0)\n",
        "X = X[:,cells_with_data_in_subset,:].squeeze()\n",
        "X = np.nan_to_num(X)\n",
        "y = label_data.loc[subset,'image_name']\n",
        "_, y = np.unique(y, return_inverse=True)"
      ],
      "metadata": {
        "id": "eF_zlqMyXUEF"
      },
      "execution_count": 119,
      "outputs": []
    },
    {
      "cell_type": "code",
      "source": [
        "# IS CHANGE (subset2)\n",
        "X2 = dff_ts[subset2,:,:].squeeze()\n",
        "#cells_with_data_in_subset = np.where(X.sum(axis=0)!=0)\n",
        "X2 = X2[:,cells_with_data_in_subset,:].squeeze()\n",
        "X2 = np.nan_to_num(X2)\n",
        "y2 = label_data.loc[subset2,'image_name']\n",
        "_, y2 = np.unique(y2, return_inverse=True)\n",
        "\n",
        "X2 = torch.Tensor(X2).to(DEVICE)\n",
        "y2 = torch.Tensor(y2).to(torch.int64).to(DEVICE)"
      ],
      "metadata": {
        "id": "cZ0s5JI1Xenr"
      },
      "execution_count": 120,
      "outputs": []
    },
    {
      "cell_type": "code",
      "source": [
        "X_train, X_test, y_train, y_test = train_test_split(X, y, test_size=.1, stratify=y)\n",
        "# Initialize\n",
        "net = ConvNetDropout(X_train.shape[1]).to(DEVICE)\n",
        "optimizer = optim.Adam(net.parameters(), weight_decay=1e-4, lr=1e-2)\n",
        "criterion = nn.CrossEntropyLoss()\n",
        "X_train = torch.Tensor(X_train).to(DEVICE)\n",
        "#X_val = torch.Tensor(X_val).to(DEVICE)\n",
        "X_test = torch.Tensor(X_test).to(DEVICE)\n",
        "y_train = torch.Tensor(y_train).to(torch.int64).to(DEVICE)\n",
        "#y_val = torch.Tensor(y_val).to(torch.int64).to(DEVICE)\n",
        "y_test = torch.Tensor(y_test).to(torch.int64).to(DEVICE)"
      ],
      "metadata": {
        "id": "a0vVb1C6XivK"
      },
      "execution_count": 124,
      "outputs": []
    },
    {
      "cell_type": "code",
      "source": [
        "# Train\n",
        "N_epochs = 500\n",
        "training_losses = np.empty(N_epochs)\n",
        "validation_losses = np.empty(N_epochs)\n",
        "out_losses = np.empty(N_epochs)\n",
        "training_accs = np.empty(N_epochs)\n",
        "validation_accs = np.empty(N_epochs)\n",
        "out_accs = np.empty(N_epochs)\n",
        "net.train()\n",
        "for i in tqdm(range(N_epochs)):\n",
        "  optimizer.zero_grad()\n",
        "  yhat_val = net(X_test)\n",
        "  yhat_val = yhat_val.to(DEVICE)\n",
        "  loss_val = criterion(yhat_val, y_test)\n",
        "  yhat_out = net(X2).to(DEVICE)\n",
        "  loss_out = criterion(yhat_out, y2)\n",
        "  yhat_train = net(X_train).to(DEVICE)\n",
        "  loss = criterion(yhat_train, y_train)\n",
        "  loss.backward()\n",
        "  optimizer.step()\n",
        "  training_losses[i] = loss.item()\n",
        "  validation_losses[i] = loss_val.item()\n",
        "  out_losses[i] = loss_out.item()\n",
        "\n",
        "  _, yhat_train_max = torch.max(yhat_train, 1)\n",
        "  training_accs[i] = (yhat_train_max == y_train).float().sum()/len(yhat_train_max)\n",
        "\n",
        "  _, yhat_val_max = torch.max(yhat_val, 1)\n",
        "  validation_accs[i] = (yhat_val_max == y_test).float().sum()/len(yhat_val_max)\n",
        "\n",
        "  _, yhat_out_max = torch.max(yhat_out, 1)\n",
        "  out_accs[i] = (yhat_out_max == y2).float().sum()/len(yhat_out_max)\n",
        "\n",
        "  # _, yhat_train = torch.max(yhat_train, 1)\n",
        "  # score_train[mouse_id] = accuracy_score(y_train.to('cpu'), yhat_train)"
      ],
      "metadata": {
        "colab": {
          "base_uri": "https://localhost:8080/",
          "height": 49,
          "referenced_widgets": [
            "43b37986a1da4c9a8fd29e371e14a7bd",
            "e551b1c2af10409db4bc7ab6707f819a",
            "876cc5a9a0974c85b055ef196446fae2",
            "a86bde117e7244bfac9bb2e2cbc4838a",
            "43d1008d9c944a718360caba8841e922",
            "6f680e489fec49d6bd6ddfeaf2a3b606",
            "ac94ab2b9f804bceab543853089fb649",
            "26adaf399b2d46b0973c5ad0d877e97b",
            "5722220abe1f44f8a52e6365ac4eab8a",
            "8b1da2cac1ad408c9f5e4a7165844a18",
            "b1f8d96f4b1a49f8933c0a5bacf8b891"
          ]
        },
        "id": "zvHuib8VXo7x",
        "outputId": "426f25d4-2fae-4134-9192-9a607fcac6e5"
      },
      "execution_count": 125,
      "outputs": [
        {
          "output_type": "display_data",
          "data": {
            "text/plain": [
              "  0%|          | 0/80 [00:00<?, ?it/s]"
            ],
            "application/vnd.jupyter.widget-view+json": {
              "version_major": 2,
              "version_minor": 0,
              "model_id": "43b37986a1da4c9a8fd29e371e14a7bd"
            }
          },
          "metadata": {}
        }
      ]
    },
    {
      "cell_type": "code",
      "source": [
        "# Evaluate\n",
        "net.eval()\n",
        "\n",
        "plt.figure()\n",
        "plt.title(fn)\n",
        "plt.ylabel('Training Loss')\n",
        "plt.xlabel('Epoch')\n",
        "# lossdf = pd.DataFrame({'training':training_losses,\n",
        "#               'validation':validation_losses,\n",
        "#               'is_change':out_losses})\n",
        "plt.plot(training_losses,label='train')\n",
        "plt.plot(validation_losses,label='validate')\n",
        "plt.plot(out_losses,label='is_change')\n",
        "plt.legend()\n",
        "\n",
        "plt.figure()\n",
        "plt.title(fn)\n",
        "plt.ylabel('Training Accuracy')\n",
        "plt.xlabel('Epoch')\n",
        "# lossdf = pd.DataFrame({'training':training_losses,\n",
        "#               'validation':validation_losses,\n",
        "#               'is_change':out_losses})\n",
        "plt.plot(training_accs,label='train')\n",
        "plt.plot(validation_accs,label='validate')\n",
        "plt.plot(out_accs,label='is_change')\n",
        "plt.legend()\n",
        "\n",
        "yhat_train = net(X_train).to('cpu')\n",
        "_, yhat_train = torch.max(yhat_train, 1)\n",
        "score_train[mouse_id] = accuracy_score(y_train.to('cpu'), yhat_train)\n",
        "print(f'Training score: {score_train[mouse_id]}')\n",
        "\n",
        "yhat_test = net(X_test).to('cpu')\n",
        "_, yhat_test = torch.max(yhat_test, 1)\n",
        "score_test[mouse_id] = accuracy_score(y_test.to('cpu'), yhat_test)\n",
        "print(f'Test score: {score_test[mouse_id]}')\n",
        "\n",
        "yhat_out = net(X2).to('cpu')\n",
        "_, yhat_out = torch.max(yhat_out, 1)\n",
        "score_out[mouse_id] = accuracy_score(y2.to('cpu'), yhat_out)\n",
        "print(f'Out score: {score_out[mouse_id]}')"
      ],
      "metadata": {
        "colab": {
          "base_uri": "https://localhost:8080/",
          "height": 627
        },
        "id": "2Umwrp0ZXxt3",
        "outputId": "18015b23-7bae-471c-e9d0-b21a93c5a53a"
      },
      "execution_count": 126,
      "outputs": [
        {
          "output_type": "stream",
          "name": "stdout",
          "text": [
            "Training score: 1.0\n",
            "Test score: 0.30985915492957744\n",
            "Out score: 0.3145436613307033\n"
          ]
        },
        {
          "output_type": "display_data",
          "data": {
            "text/plain": [
              "<Figure size 432x288 with 1 Axes>"
            ],
            "image/png": "[encoded data removed]"
          },
          "metadata": {
            "needs_background": "light"
          }
        },
        {
          "output_type": "display_data",
          "data": {
            "text/plain": [
              "<Figure size 432x288 with 1 Axes>"
            ],
            "image/png": "[encoded data removed]"
          },
          "metadata": {
            "needs_background": "light"
          }
        }
      ]
    }
  ]
}