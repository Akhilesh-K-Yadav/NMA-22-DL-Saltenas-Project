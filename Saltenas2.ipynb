{
  "nbformat": 4,
  "nbformat_minor": 0,
  "metadata": {
    "colab": {
      "name": "Saltenas2.ipynb",
      "provenance": [],
      "collapsed_sections": [],
      "authorship_tag": "ABX9TyP0sMHXTm0hc8AwaKS2zEpO",
      "include_colab_link": true
    },
    "kernelspec": {
      "name": "python3",
      "display_name": "Python 3"
    },
    "language_info": {
      "name": "python"
    },
    "accelerator": "GPU",
    "gpuClass": "standard",
    "widgets": {
      "application/vnd.jupyter.widget-state+json": {
        "487dffb2db704744a3dafce88c07f144": {
          "model_module": "@jupyter-widgets/controls",
          "model_name": "HBoxModel",
          "model_module_version": "1.5.0",
          "state": {
            "_dom_classes": [],
            "_model_module": "@jupyter-widgets/controls",
            "_model_module_version": "1.5.0",
            "_model_name": "HBoxModel",
            "_view_count": null,
            "_view_module": "@jupyter-widgets/controls",
            "_view_module_version": "1.5.0",
            "_view_name": "HBoxView",
            "box_style": "",
            "children": [
              "IPY_MODEL_21829d5867d94410875799ab4a1e3252",
              "IPY_MODEL_c77e3a18c43142bbaf045f23fccfe0bd",
              "IPY_MODEL_03b8f4639f254028a883ff22d2b650ee"
            ],
            "layout": "IPY_MODEL_5f7f2d052e984473b405d87553f29329"
          }
        },
        "21829d5867d94410875799ab4a1e3252": {
          "model_module": "@jupyter-widgets/controls",
          "model_name": "HTMLModel",
          "model_module_version": "1.5.0",
          "state": {
            "_dom_classes": [],
            "_model_module": "@jupyter-widgets/controls",
            "_model_module_version": "1.5.0",
            "_model_name": "HTMLModel",
            "_view_count": null,
            "_view_module": "@jupyter-widgets/controls",
            "_view_module_version": "1.5.0",
            "_view_name": "HTMLView",
            "description": "",
            "description_tooltip": null,
            "layout": "IPY_MODEL_ee9e471b1ccc44fd9352f97672577416",
            "placeholder": "​",
            "style": "IPY_MODEL_46e9888773844b7ebbd2a9aca8165a09",
            "value": "100%"
          }
        },
        "c77e3a18c43142bbaf045f23fccfe0bd": {
          "model_module": "@jupyter-widgets/controls",
          "model_name": "FloatProgressModel",
          "model_module_version": "1.5.0",
          "state": {
            "_dom_classes": [],
            "_model_module": "@jupyter-widgets/controls",
            "_model_module_version": "1.5.0",
            "_model_name": "FloatProgressModel",
            "_view_count": null,
            "_view_module": "@jupyter-widgets/controls",
            "_view_module_version": "1.5.0",
            "_view_name": "ProgressView",
            "bar_style": "success",
            "description": "",
            "description_tooltip": null,
            "layout": "IPY_MODEL_b9fecc7b5d3044499fc6ded707ae4523",
            "max": 500,
            "min": 0,
            "orientation": "horizontal",
            "style": "IPY_MODEL_c5bedc91c617468697ac0f96ff99e676",
            "value": 500
          }
        },
        "03b8f4639f254028a883ff22d2b650ee": {
          "model_module": "@jupyter-widgets/controls",
          "model_name": "HTMLModel",
          "model_module_version": "1.5.0",
          "state": {
            "_dom_classes": [],
            "_model_module": "@jupyter-widgets/controls",
            "_model_module_version": "1.5.0",
            "_model_name": "HTMLModel",
            "_view_count": null,
            "_view_module": "@jupyter-widgets/controls",
            "_view_module_version": "1.5.0",
            "_view_name": "HTMLView",
            "description": "",
            "description_tooltip": null,
            "layout": "IPY_MODEL_d10fc79b76ad4a31a950781166488126",
            "placeholder": "​",
            "style": "IPY_MODEL_79a81fa168614585b9098c65fc2b7fcd",
            "value": " 500/500 [00:02&lt;00:00, 275.71it/s]"
          }
        },
        "5f7f2d052e984473b405d87553f29329": {
          "model_module": "@jupyter-widgets/base",
          "model_name": "LayoutModel",
          "model_module_version": "1.2.0",
          "state": {
            "_model_module": "@jupyter-widgets/base",
            "_model_module_version": "1.2.0",
            "_model_name": "LayoutModel",
            "_view_count": null,
            "_view_module": "@jupyter-widgets/base",
            "_view_module_version": "1.2.0",
            "_view_name": "LayoutView",
            "align_content": null,
            "align_items": null,
            "align_self": null,
            "border": null,
            "bottom": null,
            "display": null,
            "flex": null,
            "flex_flow": null,
            "grid_area": null,
            "grid_auto_columns": null,
            "grid_auto_flow": null,
            "grid_auto_rows": null,
            "grid_column": null,
            "grid_gap": null,
            "grid_row": null,
            "grid_template_areas": null,
            "grid_template_columns": null,
            "grid_template_rows": null,
            "height": null,
            "justify_content": null,
            "justify_items": null,
            "left": null,
            "margin": null,
            "max_height": null,
            "max_width": null,
            "min_height": null,
            "min_width": null,
            "object_fit": null,
            "object_position": null,
            "order": null,
            "overflow": null,
            "overflow_x": null,
            "overflow_y": null,
            "padding": null,
            "right": null,
            "top": null,
            "visibility": null,
            "width": null
          }
        },
        "ee9e471b1ccc44fd9352f97672577416": {
          "model_module": "@jupyter-widgets/base",
          "model_name": "LayoutModel",
          "model_module_version": "1.2.0",
          "state": {
            "_model_module": "@jupyter-widgets/base",
            "_model_module_version": "1.2.0",
            "_model_name": "LayoutModel",
            "_view_count": null,
            "_view_module": "@jupyter-widgets/base",
            "_view_module_version": "1.2.0",
            "_view_name": "LayoutView",
            "align_content": null,
            "align_items": null,
            "align_self": null,
            "border": null,
            "bottom": null,
            "display": null,
            "flex": null,
            "flex_flow": null,
            "grid_area": null,
            "grid_auto_columns": null,
            "grid_auto_flow": null,
            "grid_auto_rows": null,
            "grid_column": null,
            "grid_gap": null,
            "grid_row": null,
            "grid_template_areas": null,
            "grid_template_columns": null,
            "grid_template_rows": null,
            "height": null,
            "justify_content": null,
            "justify_items": null,
            "left": null,
            "margin": null,
            "max_height": null,
            "max_width": null,
            "min_height": null,
            "min_width": null,
            "object_fit": null,
            "object_position": null,
            "order": null,
            "overflow": null,
            "overflow_x": null,
            "overflow_y": null,
            "padding": null,
            "right": null,
            "top": null,
            "visibility": null,
            "width": null
          }
        },
        "46e9888773844b7ebbd2a9aca8165a09": {
          "model_module": "@jupyter-widgets/controls",
          "model_name": "DescriptionStyleModel",
          "model_module_version": "1.5.0",
          "state": {
            "_model_module": "@jupyter-widgets/controls",
            "_model_module_version": "1.5.0",
            "_model_name": "DescriptionStyleModel",
            "_view_count": null,
            "_view_module": "@jupyter-widgets/base",
            "_view_module_version": "1.2.0",
            "_view_name": "StyleView",
            "description_width": ""
          }
        },
        "b9fecc7b5d3044499fc6ded707ae4523": {
          "model_module": "@jupyter-widgets/base",
          "model_name": "LayoutModel",
          "model_module_version": "1.2.0",
          "state": {
            "_model_module": "@jupyter-widgets/base",
            "_model_module_version": "1.2.0",
            "_model_name": "LayoutModel",
            "_view_count": null,
            "_view_module": "@jupyter-widgets/base",
            "_view_module_version": "1.2.0",
            "_view_name": "LayoutView",
            "align_content": null,
            "align_items": null,
            "align_self": null,
            "border": null,
            "bottom": null,
            "display": null,
            "flex": null,
            "flex_flow": null,
            "grid_area": null,
            "grid_auto_columns": null,
            "grid_auto_flow": null,
            "grid_auto_rows": null,
            "grid_column": null,
            "grid_gap": null,
            "grid_row": null,
            "grid_template_areas": null,
            "grid_template_columns": null,
            "grid_template_rows": null,
            "height": null,
            "justify_content": null,
            "justify_items": null,
            "left": null,
            "margin": null,
            "max_height": null,
            "max_width": null,
            "min_height": null,
            "min_width": null,
            "object_fit": null,
            "object_position": null,
            "order": null,
            "overflow": null,
            "overflow_x": null,
            "overflow_y": null,
            "padding": null,
            "right": null,
            "top": null,
            "visibility": null,
            "width": null
          }
        },
        "c5bedc91c617468697ac0f96ff99e676": {
          "model_module": "@jupyter-widgets/controls",
          "model_name": "ProgressStyleModel",
          "model_module_version": "1.5.0",
          "state": {
            "_model_module": "@jupyter-widgets/controls",
            "_model_module_version": "1.5.0",
            "_model_name": "ProgressStyleModel",
            "_view_count": null,
            "_view_module": "@jupyter-widgets/base",
            "_view_module_version": "1.2.0",
            "_view_name": "StyleView",
            "bar_color": null,
            "description_width": ""
          }
        },
        "d10fc79b76ad4a31a950781166488126": {
          "model_module": "@jupyter-widgets/base",
          "model_name": "LayoutModel",
          "model_module_version": "1.2.0",
          "state": {
            "_model_module": "@jupyter-widgets/base",
            "_model_module_version": "1.2.0",
            "_model_name": "LayoutModel",
            "_view_count": null,
            "_view_module": "@jupyter-widgets/base",
            "_view_module_version": "1.2.0",
            "_view_name": "LayoutView",
            "align_content": null,
            "align_items": null,
            "align_self": null,
            "border": null,
            "bottom": null,
            "display": null,
            "flex": null,
            "flex_flow": null,
            "grid_area": null,
            "grid_auto_columns": null,
            "grid_auto_flow": null,
            "grid_auto_rows": null,
            "grid_column": null,
            "grid_gap": null,
            "grid_row": null,
            "grid_template_areas": null,
            "grid_template_columns": null,
            "grid_template_rows": null,
            "height": null,
            "justify_content": null,
            "justify_items": null,
            "left": null,
            "margin": null,
            "max_height": null,
            "max_width": null,
            "min_height": null,
            "min_width": null,
            "object_fit": null,
            "object_position": null,
            "order": null,
            "overflow": null,
            "overflow_x": null,
            "overflow_y": null,
            "padding": null,
            "right": null,
            "top": null,
            "visibility": null,
            "width": null
          }
        },
        "79a81fa168614585b9098c65fc2b7fcd": {
          "model_module": "@jupyter-widgets/controls",
          "model_name": "DescriptionStyleModel",
          "model_module_version": "1.5.0",
          "state": {
            "_model_module": "@jupyter-widgets/controls",
            "_model_module_version": "1.5.0",
            "_model_name": "DescriptionStyleModel",
            "_view_count": null,
            "_view_module": "@jupyter-widgets/base",
            "_view_module_version": "1.2.0",
            "_view_name": "StyleView",
            "description_width": ""
          }
        }
      }
    }
  },
  "cells": [
    {
      "cell_type": "markdown",
      "metadata": {
        "id": "view-in-github",
        "colab_type": "text"
      },
      "source": [
        "<a href=\"https://colab.research.google.com/github/Akhilesh-K-Yadav/NMA-22-DL-Saltenas-Project/blob/main/Saltenas2.ipynb\" target=\"_parent\"><img src=\"https://colab.research.google.com/assets/colab-badge.svg\" alt=\"Open In Colab\"/></a>"
      ]
    },
    {
      "cell_type": "code",
      "source": [
        "# Imports\n",
        "import os, requests\n",
        "import random\n",
        "import numpy as np\n",
        "import matplotlib.pyplot as plt\n",
        "import pandas as pd\n",
        "import seaborn as sns\n",
        "import scipy as sp\n",
        "import gzip\n",
        "\n",
        "import torch\n",
        "import torch.nn as nn\n",
        "import torch.optim as optim\n",
        "import torch.nn.functional as F\n",
        "from torch.utils.data import DataLoader, TensorDataset\n",
        "\n",
        "from tqdm.auto import tqdm\n",
        "from IPython.display import display\n",
        "\n",
        "from sklearn.svm import SVC\n",
        "from sklearn.manifold import TSNE\n",
        "from sklearn.metrics import confusion_matrix, accuracy_score, ConfusionMatrixDisplay\n",
        "from sklearn.model_selection import train_test_split\n",
        "\n",
        "DEVICE = 'cuda'\n",
        "\n",
        "# Mount Google Drive\n",
        "from google.colab import drive\n",
        "drive.mount('/content/drive')"
      ],
      "metadata": {
        "colab": {
          "base_uri": "https://localhost:8080/"
        },
        "id": "OZ3pSQL_h117",
        "outputId": "070171b0-848a-4ca8-c99e-c17ca4e3f4a1"
      },
      "execution_count": 1,
      "outputs": [
        {
          "output_type": "stream",
          "name": "stdout",
          "text": [
            "Mounted at /content/drive\n"
          ]
        }
      ]
    },
    {
      "cell_type": "code",
      "source": [
        "mice = np.unique(pd.DataFrame(np.array(os.listdir('/content/drive/MyDrive/Mouse_Data/')))[0].apply(lambda x: x[0:15]))\n",
        "print(mice)"
      ],
      "metadata": {
        "colab": {
          "base_uri": "https://localhost:8080/"
        },
        "id": "Csjy40VF6xVy",
        "outputId": "3c04f38d-636b-4aab-80e2-56f27abb035f"
      },
      "execution_count": 38,
      "outputs": [
        {
          "output_type": "stream",
          "name": "stdout",
          "text": [
            "['Slc_mouse461946' 'Slc_mouse462468' 'Slc_mouse462544' 'Slc_mouse464204'\n",
            " 'Slc_mouse464207' 'Sst_mouse470784' 'Sst_mouse476970' 'Sst_mouse477202'\n",
            " 'Sst_mouse480753' 'Sst_mouse485688' 'Sst_mouse489056' 'Sst_mouse498972'\n",
            " 'Vip_mouse467951' 'Vip_mouse467953' 'Vip_mouse467954' 'Vip_mouse489066'\n",
            " 'Vip_mouse492395']\n"
          ]
        }
      ]
    },
    {
      "cell_type": "code",
      "execution_count": 40,
      "metadata": {
        "id": "I9F8F1uNh0Kn"
      },
      "outputs": [],
      "source": [
        "# Function to load in data from mounted drive on Colab\n",
        "def load_gzip_arrays(fn, dir = '/content/drive/MyDrive/Mouse_Data/'):\n",
        "    f = gzip.GzipFile(dir+fn+'_label.npy.gz', \"r\")\n",
        "    label_data = np.load(f,allow_pickle=True)\n",
        "    label_data = pd.DataFrame(label_data,columns=['image_name','is_change','omitted','session_number'])\n",
        "\n",
        "    f = gzip.GzipFile(dir+fn+'_dffbc.npy.gz', \"r\")\n",
        "    dff_bc = np.load(f)\n",
        "\n",
        "    f = gzip.GzipFile(dir+fn+'_dffstim.npy.gz', \"r\")\n",
        "    dff_stim = np.load(f)\n",
        "\n",
        "    f = gzip.GzipFile(dir+fn+'_dffts.npy.gz', \"r\")\n",
        "    dff_ts = np.load(f)\n",
        "\n",
        "    return label_data, dff_bc, dff_stim, dff_ts\n",
        "\n",
        "score_test = {}\n",
        "score_train = {}\n",
        "score_out = {}\n",
        "\n",
        "# Select a mouse\n",
        "area = 'Slc'\n",
        "vip_mouse_id = [467951, 467953, 467954, 489066, 492395]\n",
        "sst_mouse_id = [470784, 476970, 477202, 480753, 485688, 489056, 498972]\n",
        "slc_mouse_id = [461946, 462468, 462544, 464204, 464207]\n",
        "\n",
        "mouse_id = slc_mouse_id[1]\n",
        "\n",
        "fn = f'{area}_mouse{mouse_id}'\n",
        "label_data, dff_bc, dff_stim, dff_ts = load_gzip_arrays(fn)"
      ]
    },
    {
      "cell_type": "code",
      "source": [
        "# Possible subsetting groups\n",
        "not_omitted = np.logical_not(label_data['omitted'])\n",
        "familiar = label_data['session_number']<=3\n",
        "novel = label_data['session_number']>3\n",
        "passive = np.logical_or(label_data['session_number']==2, label_data['session_number']==5)\n",
        "active = np.logical_not(passive)\n",
        "is_change = label_data['is_change']\n",
        "not_change = np.logical_not(is_change)\n",
        "\n",
        "# Choose a subset\n",
        "subset = np.where(np.logical_and.reduce([not_change, not_omitted, familiar]))\n",
        "\n",
        "subset2 = np.where(np.logical_and.reduce([is_change, not_omitted, familiar]))\n",
        "\n",
        "len(subset[0])"
      ],
      "metadata": {
        "id": "Y8MukgLpi4ZN",
        "colab": {
          "base_uri": "https://localhost:8080/"
        },
        "outputId": "b63e6aa7-7dd6-4c4f-d1f7-6a11bd692ca9"
      },
      "execution_count": 45,
      "outputs": [
        {
          "output_type": "execute_result",
          "data": {
            "text/plain": [
              "12966"
            ]
          },
          "metadata": {},
          "execution_count": 45
        }
      ]
    },
    {
      "cell_type": "code",
      "source": [
        "class NetDropout(nn.Module):\n",
        "  \"\"\"\n",
        "  Network Class - 2D with the following structure:\n",
        "  nn.Linear(1, 300) + leaky_relu(self.dropout1(self.fc1(x))) # First fully connected layer with 0.4 dropout\n",
        "  nn.Linear(300, 500) + leaky_relu(self.dropout2(self.fc2(x))) # Second fully connected layer with 0.2 dropout\n",
        "  nn.Linear(500, 1) # Final fully connected layer\n",
        "  \"\"\"\n",
        "\n",
        "  def __init__(self,input_feature_num):\n",
        "    super(NetDropout, self).__init__()\n",
        "    self.fc1 = nn.Linear(input_feature_num, 100)\n",
        "    self.fc2 = nn.Linear(100, 100)\n",
        "    self.fc3 = nn.Linear(100, 8)\n",
        "    #self.dropout1 = nn.Dropout(0.5)\n",
        "    #self.dropout2 = nn.Dropout(0.2)\n",
        "\n",
        "  def forward(self, x):\n",
        "    x = F.leaky_relu(self.fc1(x))\n",
        "    x = F.leaky_relu(self.fc2(x))\n",
        "    #x = F.leaky_relu(self.dropout1(self.fc3(x)))\n",
        "    #x = F.leaky_relu(self.dropout1(self.fc4(x)))\n",
        "    output = self.fc3(x)\n",
        "    return output"
      ],
      "metadata": {
        "id": "2R73ZDpinr-U"
      },
      "execution_count": 46,
      "outputs": []
    },
    {
      "cell_type": "code",
      "source": [
        "# Prepare input data (mean firing rates: dff_bc or dff_stim)\n",
        "def prepare_data(dff_mat, trial_subset, cell_subset = None):\n",
        "  if len(dff_mat.shape)==3:\n",
        "    X = dff_bc[trial_subset,:,:].squeeze()\n",
        "    if cell_subset==None:\n",
        "      cell_subset = np.where(X.sum(axis=0).sum(axis=1)!=0)\n",
        "    X = X[:,cell_subset,:].squeeze()\n",
        "    X = np.nan_to_num(X)\n",
        "    y = label_data.loc[trial_subset,'image_name']\n",
        "    _, y = np.unique(y, return_inverse=True)\n",
        "\n",
        "  elif len(dff_mat.shape)==2:\n",
        "    X = dff_bc[trial_subset,:].squeeze()\n",
        "    if cell_subset==None:\n",
        "      cell_subset = np.where(X.sum(axis=0)!=0)\n",
        "    X = X[:,cell_subset].squeeze()\n",
        "    X = np.nan_to_num(X)\n",
        "    y = label_data.loc[trial_subset,'image_name']\n",
        "    _, y = np.unique(y, return_inverse=True)\n",
        "\n",
        "  else:\n",
        "    print('Error: dff_mat must be 2D or 3D')\n",
        "\n",
        "  return X, y, cell_subset\n",
        "\n",
        "X, y, cell_subset = prepare_data(dff_bc, subset)\n",
        "X2, y2, _ = prepare_data(dff_bc, subset2, cell_subset)"
      ],
      "metadata": {
        "id": "qM4rfdcxouF3"
      },
      "execution_count": 95,
      "outputs": []
    },
    {
      "cell_type": "code",
      "source": [
        "# Create train/test split\n",
        "X_train, X_test, y_train, y_test = train_test_split(X, y, test_size=.1, stratify=y)\n",
        "\n",
        "# Initialize network\n",
        "net = NetDropout(X_train.shape[1]).to(DEVICE)\n",
        "optimizer = optim.Adam(net.parameters(), weight_decay=1e-4, lr=1e-2)\n",
        "criterion = nn.CrossEntropyLoss()\n",
        "X_train = torch.Tensor(X_train).to(DEVICE)\n",
        "X_test = torch.Tensor(X_test).to(DEVICE)\n",
        "y_train = torch.Tensor(y_train).to(torch.int64).to(DEVICE)\n",
        "y_test = torch.Tensor(y_test).to(torch.int64).to(DEVICE)"
      ],
      "metadata": {
        "id": "R6a4LJjKokRM"
      },
      "execution_count": 89,
      "outputs": []
    },
    {
      "cell_type": "code",
      "source": [
        "# Train\n",
        "N_epochs = 500\n",
        "training_losses = np.empty(N_epochs)\n",
        "validation_losses = np.empty(N_epochs)\n",
        "out_losses = np.empty(N_epochs)\n",
        "training_accs = np.empty(N_epochs)\n",
        "validation_accs = np.empty(N_epochs)\n",
        "out_accs = np.empty(N_epochs)\n",
        "\n",
        "net.train()\n",
        "for i in tqdm(range(N_epochs)):\n",
        "  optimizer.zero_grad()\n",
        "  yhat_val = net(X_test).to(DEVICE)\n",
        "  loss_val = criterion(yhat_val, y_test)\n",
        "  yhat_out = net(X2).to(DEVICE)\n",
        "  loss_out = criterion(yhat_out, y2)\n",
        "  yhat_train = net(X_train).to(DEVICE)\n",
        "  loss = criterion(yhat_train, y_train)\n",
        "  loss.backward()\n",
        "  optimizer.step()\n",
        "  training_losses[i] = loss.item()\n",
        "  validation_losses[i] = loss_val.item()\n",
        "  out_losses[i] = loss_out.item()\n",
        "\n",
        "  _, yhat_train_max = torch.max(yhat_train, 1)\n",
        "  training_accs[i] = (yhat_train_max == y_train).float().sum()/len(yhat_train_max)\n",
        "\n",
        "  _, yhat_val_max = torch.max(yhat_val, 1)\n",
        "  validation_accs[i] = (yhat_val_max == y_test).float().sum()/len(yhat_val_max)\n",
        "\n",
        "  _, yhat_out_max = torch.max(yhat_out, 1)\n",
        "  out_accs[i] = (yhat_out_max == y2).float().sum()/len(yhat_out_max)"
      ],
      "metadata": {
        "id": "oFQwboTdyY7f",
        "colab": {
          "base_uri": "https://localhost:8080/",
          "height": 49,
          "referenced_widgets": [
            "487dffb2db704744a3dafce88c07f144",
            "21829d5867d94410875799ab4a1e3252",
            "c77e3a18c43142bbaf045f23fccfe0bd",
            "03b8f4639f254028a883ff22d2b650ee",
            "5f7f2d052e984473b405d87553f29329",
            "ee9e471b1ccc44fd9352f97672577416",
            "46e9888773844b7ebbd2a9aca8165a09",
            "b9fecc7b5d3044499fc6ded707ae4523",
            "c5bedc91c617468697ac0f96ff99e676",
            "d10fc79b76ad4a31a950781166488126",
            "79a81fa168614585b9098c65fc2b7fcd"
          ]
        },
        "outputId": "4a9ee7e1-7a4f-4899-b311-aa65eca39560"
      },
      "execution_count": 90,
      "outputs": [
        {
          "output_type": "display_data",
          "data": {
            "text/plain": [
              "  0%|          | 0/500 [00:00<?, ?it/s]"
            ],
            "application/vnd.jupyter.widget-view+json": {
              "version_major": 2,
              "version_minor": 0,
              "model_id": "487dffb2db704744a3dafce88c07f144"
            }
          },
          "metadata": {}
        }
      ]
    },
    {
      "cell_type": "code",
      "source": [
        "# Evaluate\n",
        "net.eval()\n",
        "\n",
        "plt.figure()\n",
        "plt.title(fn)\n",
        "plt.ylabel('Training Loss')\n",
        "plt.xlabel('Epoch')\n",
        "# lossdf = pd.DataFrame({'training':training_losses,\n",
        "#               'validation':validation_losses,\n",
        "#               'is_change':out_losses})\n",
        "plt.plot(training_losses,label='train')\n",
        "plt.plot(validation_losses,label='validate')\n",
        "plt.plot(out_losses,label='is_change')\n",
        "plt.legend()\n",
        "\n",
        "plt.figure()\n",
        "plt.title(fn)\n",
        "plt.ylabel('Training Accuracy')\n",
        "plt.xlabel('Epoch')\n",
        "# lossdf = pd.DataFrame({'training':training_losses,\n",
        "#               'validation':validation_losses,\n",
        "#               'is_change':out_losses})\n",
        "plt.plot(training_accs,label='train')\n",
        "plt.plot(validation_accs,label='validate')\n",
        "plt.plot(out_accs,label='is_change')\n",
        "plt.legend()\n",
        "\n",
        "yhat_train = net(X_train).to('cpu')\n",
        "_, yhat_train = torch.max(yhat_train, 1)\n",
        "score_train[mouse_id] = accuracy_score(y_train.to('cpu'), yhat_train)\n",
        "print(f'Training score: {score_train[mouse_id]}')\n",
        "\n",
        "yhat_test = net(X_test).to('cpu')\n",
        "_, yhat_test = torch.max(yhat_test, 1)\n",
        "score_test[mouse_id] = accuracy_score(y_test.to('cpu'), yhat_test)\n",
        "print(f'Test score: {score_test[mouse_id]}')\n",
        "\n",
        "yhat_out = net(X2).to('cpu')\n",
        "_, yhat_out = torch.max(yhat_out, 1)\n",
        "score_out[mouse_id] = accuracy_score(y2.to('cpu'), yhat_out)\n",
        "print(f'Out score: {score_out[mouse_id]}')"
      ],
      "metadata": {
        "id": "w5Rez2o6ySbE",
        "colab": {
          "base_uri": "https://localhost:8080/",
          "height": 624
        },
        "outputId": "8327441f-3559-4107-a52f-1bcf0c244c0c"
      },
      "execution_count": 91,
      "outputs": [
        {
          "output_type": "stream",
          "name": "stdout",
          "text": [
            "Training score: 1.0\n",
            "Test score: 0.9321511179645335\n",
            "Out score: 0.30963302752293576\n"
          ]
        },
        {
          "output_type": "display_data",
          "data": {
            "text/plain": [
              "<Figure size 432x288 with 1 Axes>"
            ],
            "image/png": "[encoded data removed]"
          },
          "metadata": {
            "needs_background": "light"
          }
        },
        {
          "output_type": "display_data",
          "data": {
            "text/plain": [
              "<Figure size 432x288 with 1 Axes>"
            ],
            "image/png": "[encoded data removed]"
          },
          "metadata": {
            "needs_background": "light"
          }
        }
      ]
    },
    {
      "cell_type": "code",
      "source": [
        "class ConvNetDropout(nn.Module):\n",
        "  \"\"\"\n",
        "  \"\"\"\n",
        "\n",
        "  def __init__(self,input_feature_num):\n",
        "    super(ConvNetDropout, self).__init__()\n",
        "    filters_num = 1\n",
        "    self.conv = nn.Conv1d(input_feature_num,filters_num*input_feature_num,kernel_size=5,padding=2,stride=1)\n",
        "    #self.pool = nn.AdaptiveAvgPool1d(1)\n",
        "    self.fc1 = nn.Linear(filters_num*input_feature_num, 100)\n",
        "    self.fc2 = nn.Linear(100, 100)\n",
        "    self.fc3 = nn.Linear(100, 8)\n",
        "\n",
        "  def forward(self, x):\n",
        "    x0 = self.conv(x)\n",
        "    #x1 = torch.squeeze(self.pool(x0))\n",
        "    x1 = torch.amax(x0,2)\n",
        "    x2 = F.leaky_relu(self.fc1(x1))\n",
        "    x3 = F.leaky_relu(self.fc2(x2))\n",
        "    output = self.fc3(x3)\n",
        "    return output"
      ],
      "metadata": {
        "id": "51CpeC56Vvf3"
      },
      "execution_count": 56,
      "outputs": []
    },
    {
      "cell_type": "code",
      "source": [
        "# Prepare input data (time series firing rates)\n",
        "X, y, cell_subset = prepare_data(dff_ts, subset)\n",
        "X2, y2, _ = prepare_data(dff_ts, subset2, cell_subset)"
      ],
      "metadata": {
        "id": "eF_zlqMyXUEF",
        "colab": {
          "base_uri": "https://localhost:8080/"
        },
        "outputId": "e3f58869-4539-489a-db78-07073eb389b6"
      },
      "execution_count": 57,
      "outputs": [
        {
          "output_type": "stream",
          "name": "stderr",
          "text": [
            "/usr/local/lib/python3.7/dist-packages/numpy/core/_methods.py:48: RuntimeWarning: overflow encountered in reduce\n",
            "  return umr_sum(a, axis, dtype, out, keepdims, initial, where)\n"
          ]
        }
      ]
    },
    {
      "cell_type": "code",
      "source": [
        "X_train, X_test, y_train, y_test = train_test_split(X, y, test_size=.1, stratify=y)\n",
        "\n",
        "X_train = torch.Tensor(X_train).to(DEVICE)\n",
        "X_test = torch.Tensor(X_test).to(DEVICE)\n",
        "y_train = torch.Tensor(y_train).to(torch.int64).to(DEVICE)\n",
        "y_test = torch.Tensor(y_test).to(torch.int64).to(DEVICE)\n",
        "\n",
        "# Initialize\n",
        "net = ConvNetDropout(X_train.shape[1]).to(DEVICE)\n",
        "optimizer = optim.Adam(net.parameters(), weight_decay=1e-4, lr=1e-2)\n",
        "criterion = nn.CrossEntropyLoss()"
      ],
      "metadata": {
        "id": "a0vVb1C6XivK"
      },
      "execution_count": 59,
      "outputs": []
    },
    {
      "cell_type": "code",
      "source": [
        "# Train\n",
        "N_epochs = 500\n",
        "training_losses = np.empty(N_epochs)\n",
        "validation_losses = np.empty(N_epochs)\n",
        "out_losses = np.empty(N_epochs)\n",
        "training_accs = np.empty(N_epochs)\n",
        "validation_accs = np.empty(N_epochs)\n",
        "out_accs = np.empty(N_epochs)\n",
        "net.train()\n",
        "for i in tqdm(range(N_epochs)):\n",
        "  optimizer.zero_grad()\n",
        "  yhat_val = net(X_test)\n",
        "  yhat_val = yhat_val.to(DEVICE)\n",
        "  loss_val = criterion(yhat_val, y_test)\n",
        "  yhat_out = net(X2).to(DEVICE)\n",
        "  loss_out = criterion(yhat_out, y2)\n",
        "  yhat_train = net(X_train).to(DEVICE)\n",
        "  loss = criterion(yhat_train, y_train)\n",
        "  loss.backward()\n",
        "  optimizer.step()\n",
        "  training_losses[i] = loss.item()\n",
        "  validation_losses[i] = loss_val.item()\n",
        "  out_losses[i] = loss_out.item()\n",
        "\n",
        "  _, yhat_train_max = torch.max(yhat_train, 1)\n",
        "  training_accs[i] = (yhat_train_max == y_train).float().sum()/len(yhat_train_max)\n",
        "\n",
        "  _, yhat_val_max = torch.max(yhat_val, 1)\n",
        "  validation_accs[i] = (yhat_val_max == y_test).float().sum()/len(yhat_val_max)\n",
        "\n",
        "  _, yhat_out_max = torch.max(yhat_out, 1)\n",
        "  out_accs[i] = (yhat_out_max == y2).float().sum()/len(yhat_out_max)\n",
        "\n",
        "  # _, yhat_train = torch.max(yhat_train, 1)\n",
        "  # score_train[mouse_id] = accuracy_score(y_train.to('cpu'), yhat_train)"
      ],
      "metadata": {
        "id": "zvHuib8VXo7x"
      },
      "execution_count": null,
      "outputs": []
    },
    {
      "cell_type": "code",
      "source": [
        "# Evaluate\n",
        "net.eval()\n",
        "\n",
        "plt.figure()\n",
        "plt.title(fn)\n",
        "plt.ylabel('Training Loss')\n",
        "plt.xlabel('Epoch')\n",
        "# lossdf = pd.DataFrame({'training':training_losses,\n",
        "#               'validation':validation_losses,\n",
        "#               'is_change':out_losses})\n",
        "plt.plot(training_losses,label='train')\n",
        "plt.plot(validation_losses,label='validate')\n",
        "plt.plot(out_losses,label='is_change')\n",
        "plt.legend()\n",
        "\n",
        "plt.figure()\n",
        "plt.title(fn)\n",
        "plt.ylabel('Training Accuracy')\n",
        "plt.xlabel('Epoch')\n",
        "# lossdf = pd.DataFrame({'training':training_losses,\n",
        "#               'validation':validation_losses,\n",
        "#               'is_change':out_losses})\n",
        "plt.plot(training_accs,label='train')\n",
        "plt.plot(validation_accs,label='validate')\n",
        "plt.plot(out_accs,label='is_change')\n",
        "plt.legend()\n",
        "\n",
        "yhat_train = net(X_train).to('cpu')\n",
        "_, yhat_train = torch.max(yhat_train, 1)\n",
        "score_train[mouse_id] = accuracy_score(y_train.to('cpu'), yhat_train)\n",
        "print(f'Training score: {score_train[mouse_id]}')\n",
        "\n",
        "yhat_test = net(X_test).to('cpu')\n",
        "_, yhat_test = torch.max(yhat_test, 1)\n",
        "score_test[mouse_id] = accuracy_score(y_test.to('cpu'), yhat_test)\n",
        "print(f'Test score: {score_test[mouse_id]}')\n",
        "\n",
        "yhat_out = net(X2).to('cpu')\n",
        "_, yhat_out = torch.max(yhat_out, 1)\n",
        "score_out[mouse_id] = accuracy_score(y2.to('cpu'), yhat_out)\n",
        "print(f'Out score: {score_out[mouse_id]}')"
      ],
      "metadata": {
        "colab": {
          "base_uri": "https://localhost:8080/",
          "height": 624
        },
        "id": "2Umwrp0ZXxt3",
        "outputId": "77a4de8e-f7de-4536-ae5b-3779c9276627"
      },
      "execution_count": 37,
      "outputs": [
        {
          "output_type": "stream",
          "name": "stdout",
          "text": [
            "Training score: 0.5272573124205172\n",
            "Test score: 0.17543859649122806\n",
            "Out score: 0.14112903225806453\n"
          ]
        },
        {
          "output_type": "display_data",
          "data": {
            "text/plain": [
              "<Figure size 432x288 with 1 Axes>"
            ],
            "image/png": "[encoded data removed]"
          },
          "metadata": {
            "needs_background": "light"
          }
        },
        {
          "output_type": "display_data",
          "data": {
            "text/plain": [
              "<Figure size 432x288 with 1 Axes>"
            ],
            "image/png": "[encoded data removed]"
          },
          "metadata": {
            "needs_background": "light"
          }
        }
      ]
    }
  ]
}