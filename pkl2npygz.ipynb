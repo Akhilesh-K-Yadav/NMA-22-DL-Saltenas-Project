{
 "cells": [
  {
   "cell_type": "code",
   "execution_count": 1,
   "metadata": {},
   "outputs": [
    {
     "name": "stderr",
     "output_type": "stream",
     "text": [
      "/opt/anaconda3/envs/mindscope_utilities/lib/python3.8/site-packages/tqdm/auto.py:22: TqdmWarning: IProgress not found. Please update jupyter and ipywidgets. See https://ipywidgets.readthedocs.io/en/stable/user_install.html\n",
      "  from .autonotebook import tqdm as notebook_tqdm\n"
     ]
    }
   ],
   "source": [
    "import os\n",
    "import pandas as pd\n",
    "import numpy as np\n",
    "from tqdm.auto import tqdm\n",
    "import gzip"
   ]
  },
  {
   "cell_type": "code",
   "execution_count": 2,
   "metadata": {},
   "outputs": [
    {
     "name": "stderr",
     "output_type": "stream",
     "text": [
      "100%|██████████| 39/39 [16:12<00:00, 24.92s/it]\n"
     ]
    }
   ],
   "source": [
    "files = os.listdir()\n",
    "pklidx = np.array(['.pkl' in f for f in files])\n",
    "mousefiles = np.array(files)[pklidx]\n",
    "\n",
    "for fn in tqdm(mousefiles[1:]):\n",
    "    df = pd.read_pickle(fn)\n",
    "\n",
    "    # Create smaller df with only essential columns\n",
    "    unneeded = ['exposure_level','sex','cre_line','targeted_structure','imaging_depth','ophys_experiment_id','dff']\n",
    "    df.index = df.index.astype('int16')\n",
    "    df_sm = df.drop(unneeded,axis=1)\n",
    "\n",
    "    # Explode out the trace arrays\n",
    "    df = df.explode(column='trace').reset_index(drop=True)\n",
    "    # Add the corresponding timestamps\n",
    "    df['time'] = np.tile(np.linspace(-0.5,0.7333333333333334,38),int(len(df)/38))\n",
    "    # Pivot to multi-indexed df\n",
    "    lmao = df.pivot(index=['ophys_session_id','stimulus_presentations_id','time'],columns='cell_specimen_id',values='trace')\n",
    "    # Hack to create 3D matrix by stacking along the time dimension\n",
    "    time_data = []\n",
    "    for i, ti in enumerate(np.linspace(-0.5,0.7333333333333334,38)):\n",
    "        val = np.half(lmao.loc[:,:,ti].values)\n",
    "        time_data.append(val)\n",
    "    time_data = np.stack(time_data,axis=2)\n",
    "    \n",
    "    # Save\n",
    "    f = gzip.GzipFile(fn[:-4]+'_dffts.npy.gz', \"w\")\n",
    "    np.save(f, time_data)\n",
    "    f.close()\n",
    "\n",
    "    # df.pivot doesn't work if you have previously cast values to float16!\n",
    "    df_sm = df_sm.astype({'dff_bc':'float64', 'dff_stim500':'float64'})\n",
    "    \n",
    "    dff_bc = np.half(df_sm.pivot(index=['ophys_session_id','stimulus_presentations_id'],columns='cell_specimen_id',values='dff_bc').values)\n",
    "    f = gzip.GzipFile(fn[:-4]+'_dffbc.npy.gz', \"w\")\n",
    "    np.save(f, dff_bc)\n",
    "    f.close()\n",
    "\n",
    "    dff_stim500 = np.half(df_sm.pivot(index=['ophys_session_id','stimulus_presentations_id'],columns='cell_specimen_id',values='dff_stim500').values)\n",
    "    f = gzip.GzipFile(fn[:-4]+'_dffstim.npy.gz', \"w\")\n",
    "    np.save(f, dff_stim500)\n",
    "    f.close()\n",
    "\n",
    "    img = df_sm.pivot(index=['ophys_session_id','stimulus_presentations_id'],columns='cell_specimen_id',values='image_name').values[:,0]\n",
    "    chg = df_sm.pivot(index=['ophys_session_id','stimulus_presentations_id'],columns='cell_specimen_id',values='is_change').values[:,0]\n",
    "    omi = df_sm.pivot(index=['ophys_session_id','stimulus_presentations_id'],columns='cell_specimen_id',values='omitted').values[:,0]\n",
    "    ses = df_sm.pivot(index=['ophys_session_id','stimulus_presentations_id'],columns='cell_specimen_id',values='session_number').values[:,0]\n",
    "    label_data = np.stack([img,chg,omi,ses], axis=1)\n",
    "    f = gzip.GzipFile(fn[:-4]+'_label.npy.gz', \"w\")\n",
    "    np.save(f, label_data)\n",
    "    f.close()\n",
    "    "
   ]
  }
 ],
 "metadata": {
  "kernelspec": {
   "display_name": "Python 3.8.13 ('mindscope_utilities')",
   "language": "python",
   "name": "python3"
  },
  "language_info": {
   "codemirror_mode": {
    "name": "ipython",
    "version": 3
   },
   "file_extension": ".py",
   "mimetype": "text/x-python",
   "name": "python",
   "nbconvert_exporter": "python",
   "pygments_lexer": "ipython3",
   "version": "3.8.13"
  },
  "orig_nbformat": 4,
  "vscode": {
   "interpreter": {
    "hash": "c2d75289377afe78148052a4afb146342057af0f156c5d68e5a1810c42f31f9e"
   }
  }
 },
 "nbformat": 4,
 "nbformat_minor": 2
}
