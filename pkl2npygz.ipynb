{
 "cells": [
  {
   "cell_type": "code",
   "execution_count": 1,
   "metadata": {},
   "outputs": [
    {
     "name": "stderr",
     "output_type": "stream",
     "text": [
      "/opt/anaconda3/envs/mindscope_utilities/lib/python3.8/site-packages/tqdm/auto.py:22: TqdmWarning: IProgress not found. Please update jupyter and ipywidgets. See https://ipywidgets.readthedocs.io/en/stable/user_install.html\n",
      "  from .autonotebook import tqdm as notebook_tqdm\n"
     ]
    }
   ],
   "source": [
    "import os\n",
    "import pandas as pd\n",
    "import numpy as np\n",
    "from tqdm.auto import tqdm\n",
    "import gzip"
   ]
  },
  {
   "cell_type": "code",
   "execution_count": 8,
   "metadata": {},
   "outputs": [
    {
     "name": "stderr",
     "output_type": "stream",
     "text": [
      "100%|██████████| 17/17 [04:22<00:00, 15.45s/it]\n"
     ]
    }
   ],
   "source": [
    "files = os.listdir()\n",
    "pklidx = np.array(['.pkl' in f for f in files])\n",
    "mousefiles = np.array(files)[pklidx]\n",
    "\n",
    "# the four slc mice with giant files...\n",
    "# mousefiles = ['Slc_mouse464207.pkl', 'Slc_mouse464204.pkl', 'Slc_mouse462544.pkl', 'Slc_mouse462468.pkl'] # 'Slc_mouse461946.pkl'\n",
    "# mousefiles = ['Sst_mouse476970.pkl']\n",
    "\n",
    "for fn in tqdm(mousefiles):\n",
    "    df = pd.read_pickle(fn)\n",
    "\n",
    "    # Create smaller df with only essential columns\n",
    "    unneeded = ['exposure_level','sex','cre_line','targeted_structure','imaging_depth','ophys_experiment_id','dff']\n",
    "    df.index = df.index.astype('int16')\n",
    "    df_sm = df.drop(unneeded,axis=1)\n",
    "\n",
    "    # df.pivot doesn't work if you have previously cast values to float16!\n",
    "    df_sm = df_sm.astype({'dff_bc':'float64', 'dff_stim500':'float64'})\n",
    "\n",
    "    # Explode out the trace arrays\n",
    "    df = df.explode(column='trace').reset_index(drop=True)\n",
    "    # Add the corresponding timestamps\n",
    "    df['time'] = np.tile(np.linspace(-0.5,0.7333333333333334,38),int(len(df)/38))\n",
    "    # Pivot to multi-indexed df\n",
    "    lmao = df.pivot(index=['ophys_session_id','stimulus_presentations_id','time'],columns='cell_specimen_id',values='trace')\n",
    "    # Hack to create 3D matrix by stacking along the time dimension\n",
    "    time_data = []\n",
    "    for i, ti in enumerate(np.linspace(-0.5,0.7333333333333334,38)):\n",
    "        val = np.half(lmao.loc[:,:,ti].values)\n",
    "        time_data.append(val)\n",
    "    time_data = np.stack(time_data,axis=2)\n",
    "    \n",
    "    # Save\n",
    "    f = gzip.GzipFile(fn[:-4]+'_dffts.npy.gz', \"w\")\n",
    "    np.save(f, time_data)\n",
    "    f.close()\n",
    "\n",
    "    dff_bc = np.half(df_sm.pivot(index=['ophys_session_id','stimulus_presentations_id'],columns='cell_specimen_id',values='dff_bc').values)\n",
    "    f = gzip.GzipFile(fn[:-4]+'_dffbc.npy.gz', \"w\")\n",
    "    np.save(f, dff_bc)\n",
    "    f.close()\n",
    "\n",
    "    dff_stim500 = np.half(df_sm.pivot(index=['ophys_session_id','stimulus_presentations_id'],columns='cell_specimen_id',values='dff_stim500').values)\n",
    "    f = gzip.GzipFile(fn[:-4]+'_dffstim.npy.gz', \"w\")\n",
    "    np.save(f, dff_stim500)\n",
    "    f.close()\n",
    "\n",
    "    img = df_sm.pivot(index=['ophys_session_id','stimulus_presentations_id'],columns='cell_specimen_id',values='image_name')\n",
    "    img = img.fillna(method='bfill', axis=1).iloc[:, 0].values\n",
    "    chg = df_sm.pivot(index=['ophys_session_id','stimulus_presentations_id'],columns='cell_specimen_id',values='is_change')\n",
    "    chg = chg.fillna(method='bfill', axis=1).iloc[:, 0].values\n",
    "    omi = df_sm.pivot(index=['ophys_session_id','stimulus_presentations_id'],columns='cell_specimen_id',values='omitted')\n",
    "    omi = omi.fillna(method='bfill', axis=1).iloc[:, 0].values\n",
    "    ses = df_sm.pivot(index=['ophys_session_id','stimulus_presentations_id'],columns='cell_specimen_id',values='session_number')\n",
    "    ses = ses.fillna(method='bfill', axis=1).iloc[:, 0].values\n",
    "    label_data = np.stack([img,chg,omi,ses], axis=1)\n",
    "    f = gzip.GzipFile(fn[:-4]+'_label.npy.gz', \"w\")\n",
    "    np.save(f, label_data)\n",
    "    f.close()\n",
    "    "
   ]
  },
  {
   "cell_type": "code",
   "execution_count": 18,
   "metadata": {},
   "outputs": [
    {
     "name": "stderr",
     "output_type": "stream",
     "text": [
      "  0%|          | 0/4 [00:00<?, ?it/s]"
     ]
    },
    {
     "name": "stdout",
     "output_type": "stream",
     "text": [
      "['Slc_mouse462468_sess910985315.pkl' 'Slc_mouse462468_sess903918949.pkl'\n",
      " 'Slc_mouse462468_sess902193346.pkl' 'Slc_mouse462468_sess908734047.pkl'\n",
      " 'Slc_mouse462468_sess902618223.pkl' 'Slc_mouse462468_sess910345059.pkl']\n"
     ]
    },
    {
     "name": "stderr",
     "output_type": "stream",
     "text": [
      "100%|██████████| 6/6 [00:20<00:00,  3.44s/it]\n",
      " 25%|██▌       | 1/4 [00:27<01:23, 27.75s/it]"
     ]
    },
    {
     "name": "stdout",
     "output_type": "stream",
     "text": [
      "['Slc_mouse462544_sess910971181.pkl' 'Slc_mouse462544_sess915587736.pkl'\n",
      " 'Slc_mouse462544_sess922743776.pkl' 'Slc_mouse462544_sess911449165.pkl'\n",
      " 'Slc_mouse462544_sess914306708.pkl' 'Slc_mouse462544_sess914797752.pkl'\n",
      " 'Slc_mouse462544_sess913834848.pkl']\n"
     ]
    },
    {
     "name": "stderr",
     "output_type": "stream",
     "text": [
      "100%|██████████| 7/7 [00:17<00:00,  2.51s/it]\n",
      " 50%|█████     | 2/4 [00:53<00:53, 26.73s/it]"
     ]
    },
    {
     "name": "stdout",
     "output_type": "stream",
     "text": [
      "['Slc_mouse464204_sess918718550.pkl' 'Slc_mouse464204_sess914163299.pkl'\n",
      " 'Slc_mouse464204_sess928146339.pkl' 'Slc_mouse464204_sess918116930.pkl'\n",
      " 'Slc_mouse464204_sess929255931.pkl' 'Slc_mouse464204_sess929688369.pkl']\n"
     ]
    },
    {
     "name": "stderr",
     "output_type": "stream",
     "text": [
      "100%|██████████| 6/6 [00:10<00:00,  1.80s/it]\n",
      " 75%|███████▌  | 3/4 [01:10<00:22, 22.36s/it]"
     ]
    },
    {
     "name": "stdout",
     "output_type": "stream",
     "text": [
      "['Slc_mouse464207_sess928142719.pkl' 'Slc_mouse464207_sess918719819.pkl'\n",
      " 'Slc_mouse464207_sess922168593.pkl' 'Slc_mouse464207_sess920317769.pkl'\n",
      " 'Slc_mouse464207_sess923202821.pkl' 'Slc_mouse464207_sess924400171.pkl'\n",
      " 'Slc_mouse464207_sess919432737.pkl' 'Slc_mouse464207_sess926186616.pkl']\n"
     ]
    },
    {
     "name": "stderr",
     "output_type": "stream",
     "text": [
      "100%|██████████| 8/8 [00:09<00:00,  1.16s/it]\n",
      "100%|██████████| 4/4 [01:25<00:00, 21.27s/it]\n"
     ]
    }
   ],
   "source": [
    "# For fixing the multi-session files (not aligned...)\n",
    "files = os.listdir()\n",
    "pklidx = np.array(['sess' in f and '.pkl' in f for f in files])\n",
    "mousefiles = np.array(files)[pklidx] # all the mouse files with sessions\n",
    "\n",
    "def myfun(x):\n",
    "    x=x.split(sep='_')\n",
    "    return x[1][5:]\n",
    "myfunvec = np.vectorize(myfun)\n",
    "slc_mice = np.unique(myfunvec(mousefiles)) # the slc mouse ids with sessions\n",
    "\n",
    "for mo in tqdm(slc_mice):\n",
    "    moidx = np.array([mo in f for f in mousefiles])\n",
    "    mofiles = np.array(mousefiles)[moidx] # the pkl files for one slc mouse with sessions\n",
    "    print(mofiles)\n",
    "    df = []\n",
    "    for fn in tqdm(mofiles):\n",
    "        df.append(pd.read_pickle(fn))\n",
    "    df = pd.concat(df) # WARNING this can get big\n",
    "    df.to_pickle(f'{mofiles[0][0:15]}.pkl')\n",
    "\n",
    "    "
   ]
  },
  {
   "cell_type": "code",
   "execution_count": 21,
   "metadata": {},
   "outputs": [
    {
     "name": "stdout",
     "output_type": "stream",
     "text": [
      "['Slc_mouse464207.pkl' 'Slc_mouse464204.pkl' 'Slc_mouse462544.pkl'\n",
      " 'Slc_mouse461946.pkl' 'Slc_mouse462468.pkl']\n"
     ]
    }
   ],
   "source": [
    "files = os.listdir()\n",
    "pklidx = np.array(['sess' not in f and 'Slc' in f and '.pkl' in f for f in files])\n",
    "mousefiles = np.array(files)[pklidx]\n",
    "print(mousefiles)"
   ]
  }
 ],
 "metadata": {
  "kernelspec": {
   "display_name": "Python 3.8.13 ('mindscope_utilities')",
   "language": "python",
   "name": "python3"
  },
  "language_info": {
   "codemirror_mode": {
    "name": "ipython",
    "version": 3
   },
   "file_extension": ".py",
   "mimetype": "text/x-python",
   "name": "python",
   "nbconvert_exporter": "python",
   "pygments_lexer": "ipython3",
   "version": "3.8.13"
  },
  "orig_nbformat": 4,
  "vscode": {
   "interpreter": {
    "hash": "c2d75289377afe78148052a4afb146342057af0f156c5d68e5a1810c42f31f9e"
   }
  }
 },
 "nbformat": 4,
 "nbformat_minor": 2
}
